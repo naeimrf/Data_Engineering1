{
 "cells": [
  {
   "cell_type": "markdown",
   "id": "06fb3c30",
   "metadata": {},
   "source": [
    "### Assignment 3, Naeim Rashidfarokhi, Data Engineering I 2022"
   ]
  },
  {
   "cell_type": "markdown",
   "id": "48834a48",
   "metadata": {},
   "source": [
    "#### Section B - Working with DataFrames and SQL"
   ]
  },
  {
   "cell_type": "code",
   "execution_count": 1,
   "id": "66f36790",
   "metadata": {},
   "outputs": [],
   "source": [
    "from pyspark.sql import SparkSession\n",
    "import pandas as pd"
   ]
  },
  {
   "cell_type": "code",
   "execution_count": 2,
   "id": "1969b747",
   "metadata": {},
   "outputs": [],
   "source": [
    "# This boolean is to run the code easier both locally or on server\n",
    "server_mode = True"
   ]
  },
  {
   "cell_type": "code",
   "execution_count": 3,
   "id": "34bce2fa",
   "metadata": {},
   "outputs": [
    {
     "name": "stderr",
     "output_type": "stream",
     "text": [
      "Using Spark's default log4j profile: org/apache/spark/log4j-defaults.properties\n",
      "Setting default log level to \"WARN\".\n",
      "To adjust logging level use sc.setLogLevel(newLevel). For SparkR, use setLogLevel(newLevel).\n",
      "22/03/03 09:57:01 WARN NativeCodeLoader: Unable to load native-hadoop library for your platform... using builtin-java classes where applicable\n",
      "22/03/03 09:57:05 WARN ExecutorAllocationManager: Dynamic allocation without a shuffle service is an experimental feature.\n"
     ]
    }
   ],
   "source": [
    "if server_mode:\n",
    "    #New API\n",
    "    spark_session = SparkSession\\\n",
    "            .builder\\\n",
    "            .master(\"spark://192.168.2.119:7077\") \\\n",
    "            .appName(\"Naeim_Rashidfarokhi_A3_B\")\\\n",
    "            .config(\"spark.dynamicAllocation.enabled\", True)\\\n",
    "            .config(\"spark.dynamicAllocation.shuffleTracking.enabled\",True)\\\n",
    "            .config(\"spark.shuffle.service.enabled\", False)\\\n",
    "            .config(\"spark.dynamicAllocation.executorIdleTimeout\",\"300s\")\\\n",
    "            .config(\"spark.executor.cores\",4)\\\n",
    "            .config(\"spark.driver.port\",9998)\\\n",
    "            .config(\"spark.blockManager.port\",10005)\\\n",
    "            .getOrCreate()\n",
    "\n",
    "    # Old API (RDD)\n",
    "    spark_context = spark_session.sparkContext\n",
    "    spark_context.setLogLevel(\"ERROR\")\n",
    "\n",
    "else:\n",
    "    # local version, deactivate later!\n",
    "    spark_session = SparkSession.builder.appName('A3_B').getOrCreate()"
   ]
  },
  {
   "cell_type": "code",
   "execution_count": 4,
   "id": "07711204",
   "metadata": {},
   "outputs": [
    {
     "data": {
      "text/html": [
       "\n",
       "            <div>\n",
       "                <p><b>SparkSession - in-memory</b></p>\n",
       "                \n",
       "        <div>\n",
       "            <p><b>SparkContext</b></p>\n",
       "\n",
       "            <p><a href=\"http://host-192-168-2-216-de1:4040\">Spark UI</a></p>\n",
       "\n",
       "            <dl>\n",
       "              <dt>Version</dt>\n",
       "                <dd><code>v3.2.0</code></dd>\n",
       "              <dt>Master</dt>\n",
       "                <dd><code>spark://192.168.2.119:7077</code></dd>\n",
       "              <dt>AppName</dt>\n",
       "                <dd><code>Naeim_Rashidfarokhi_A3_B</code></dd>\n",
       "            </dl>\n",
       "        </div>\n",
       "        \n",
       "            </div>\n",
       "        "
      ],
      "text/plain": [
       "<pyspark.sql.session.SparkSession at 0x7f8dfa1040d0>"
      ]
     },
     "execution_count": 4,
     "metadata": {},
     "output_type": "execute_result"
    }
   ],
   "source": [
    "spark_session # to get some info about the Session"
   ]
  },
  {
   "cell_type": "markdown",
   "id": "e380e56f",
   "metadata": {},
   "source": [
    "##### B.1 Load the CSV file from HDFS, and call show() to verify the data is loaded correctly"
   ]
  },
  {
   "cell_type": "code",
   "execution_count": 5,
   "id": "8a1b3c08",
   "metadata": {
    "scrolled": true
   },
   "outputs": [
    {
     "name": "stderr",
     "output_type": "stream",
     "text": [
      "                                                                                \r"
     ]
    }
   ],
   "source": [
    "if server_mode:\n",
    "    path =\"hdfs://host-192-168-2-119-de1:9000/parking-citations.csv\"\n",
    "    df_spark = spark_session.read.csv(path, header=True, inferSchema=True)\n",
    "else:\n",
    "    path =\"/home/naeim/Desktop/DE1/parking-citations.csv\"\n",
    "    df_spark = spark_session.read.csv(path, header=True, inferSchema=True)"
   ]
  },
  {
   "cell_type": "code",
   "execution_count": 6,
   "id": "90b6ab5f",
   "metadata": {},
   "outputs": [
    {
     "name": "stdout",
     "output_type": "stream",
     "text": [
      "+-------------+-------------------+----------+--------+-----------+--------------+-----------------+----+----+----------+-----+---------------+-----+------+--------------+---------------------+-----------+--------+---------+------------------+-----------------+----------------------+\n",
      "|Ticket number|         Issue Date|Issue time|Meter Id|Marked Time|RP State Plate|Plate Expiry Date| VIN|Make|Body Style|Color|       Location|Route|Agency|Violation code|Violation Description|Fine amount|Latitude|Longitude|Agency Description|Color Description|Body Style Description|\n",
      "+-------------+-------------------+----------+--------+-----------+--------------+-----------------+----+----+----------+-----+---------------+-----+------+--------------+---------------------+-----------+--------+---------+------------------+-----------------+----------------------+\n",
      "|   1103341116|2015-12-21 00:00:00|    1251.0|    null|       null|            CA|         200304.0|null|HOND|        PA|   GY|13147 WELBY WAY|01521|   1.0|        4000A1|   NO EVIDENCE OF REG|       50.0| 99999.0|  99999.0|              null|             null|                  null|\n",
      "|   1103700150|2015-12-21 00:00:00|    1435.0|    null|       null|            CA|         201512.0|null| GMC|        VN|   WH|  525 S MAIN ST| 1C51|   1.0|        4000A1|   NO EVIDENCE OF REG|       50.0| 99999.0|  99999.0|              null|             null|                  null|\n",
      "+-------------+-------------------+----------+--------+-----------+--------------+-----------------+----+----+----------+-----+---------------+-----+------+--------------+---------------------+-----------+--------+---------+------------------+-----------------+----------------------+\n",
      "only showing top 2 rows\n",
      "\n"
     ]
    }
   ],
   "source": [
    "df_spark.show(2)"
   ]
  },
  {
   "cell_type": "markdown",
   "id": "53866965",
   "metadata": {},
   "source": [
    "##### B.2 Print the schema for the DataFrame."
   ]
  },
  {
   "cell_type": "code",
   "execution_count": 7,
   "id": "64ba3441",
   "metadata": {},
   "outputs": [
    {
     "name": "stdout",
     "output_type": "stream",
     "text": [
      "root\n",
      " |-- Ticket number: string (nullable = true)\n",
      " |-- Issue Date: timestamp (nullable = true)\n",
      " |-- Issue time: double (nullable = true)\n",
      " |-- Meter Id: string (nullable = true)\n",
      " |-- Marked Time: double (nullable = true)\n",
      " |-- RP State Plate: string (nullable = true)\n",
      " |-- Plate Expiry Date: double (nullable = true)\n",
      " |-- VIN: string (nullable = true)\n",
      " |-- Make: string (nullable = true)\n",
      " |-- Body Style: string (nullable = true)\n",
      " |-- Color: string (nullable = true)\n",
      " |-- Location: string (nullable = true)\n",
      " |-- Route: string (nullable = true)\n",
      " |-- Agency: double (nullable = true)\n",
      " |-- Violation code: string (nullable = true)\n",
      " |-- Violation Description: string (nullable = true)\n",
      " |-- Fine amount: double (nullable = true)\n",
      " |-- Latitude: double (nullable = true)\n",
      " |-- Longitude: double (nullable = true)\n",
      " |-- Agency Description: string (nullable = true)\n",
      " |-- Color Description: string (nullable = true)\n",
      " |-- Body Style Description: string (nullable = true)\n",
      "\n"
     ]
    }
   ],
   "source": [
    "# to see column names with their type and ability to accept null\n",
    "df_spark.printSchema()"
   ]
  },
  {
   "cell_type": "code",
   "execution_count": 8,
   "id": "749b1cc6",
   "metadata": {},
   "outputs": [
    {
     "data": {
      "text/plain": [
       "[('Ticket number', 'string'),\n",
       " ('Issue Date', 'timestamp'),\n",
       " ('Issue time', 'double'),\n",
       " ('Meter Id', 'string'),\n",
       " ('Marked Time', 'double'),\n",
       " ('RP State Plate', 'string'),\n",
       " ('Plate Expiry Date', 'double'),\n",
       " ('VIN', 'string'),\n",
       " ('Make', 'string'),\n",
       " ('Body Style', 'string'),\n",
       " ('Color', 'string'),\n",
       " ('Location', 'string'),\n",
       " ('Route', 'string'),\n",
       " ('Agency', 'double'),\n",
       " ('Violation code', 'string'),\n",
       " ('Violation Description', 'string'),\n",
       " ('Fine amount', 'double'),\n",
       " ('Latitude', 'double'),\n",
       " ('Longitude', 'double'),\n",
       " ('Agency Description', 'string'),\n",
       " ('Color Description', 'string'),\n",
       " ('Body Style Description', 'string')]"
      ]
     },
     "execution_count": 8,
     "metadata": {},
     "output_type": "execute_result"
    }
   ],
   "source": [
    "df_spark.dtypes"
   ]
  },
  {
   "cell_type": "code",
   "execution_count": 9,
   "id": "b2ea2a3b",
   "metadata": {},
   "outputs": [
    {
     "name": "stdout",
     "output_type": "stream",
     "text": [
      "Number of columns: 22\n"
     ]
    }
   ],
   "source": [
    "print(f'Number of columns: {len(df_spark.columns)}')"
   ]
  },
  {
   "cell_type": "markdown",
   "id": "2551604e",
   "metadata": {},
   "source": [
    "##### B.3 Count the number of rows in the CSV file."
   ]
  },
  {
   "cell_type": "code",
   "execution_count": 10,
   "id": "ee4140f3",
   "metadata": {},
   "outputs": [
    {
     "name": "stderr",
     "output_type": "stream",
     "text": [
      "[Stage 3:=====================================================>   (15 + 1) / 16]\r"
     ]
    },
    {
     "name": "stdout",
     "output_type": "stream",
     "text": [
      "Number of rows/records: 13077724\n"
     ]
    },
    {
     "name": "stderr",
     "output_type": "stream",
     "text": [
      "                                                                                \r"
     ]
    }
   ],
   "source": [
    "print(f'Number of rows/records: {df_spark.count()}')"
   ]
  },
  {
   "cell_type": "markdown",
   "id": "00f9b6e0",
   "metadata": {},
   "source": [
    "##### B.4 Count the number of partitions in the underlying RDD."
   ]
  },
  {
   "cell_type": "code",
   "execution_count": 11,
   "id": "bd5f7ada",
   "metadata": {},
   "outputs": [
    {
     "name": "stdout",
     "output_type": "stream",
     "text": [
      "Number of partitions: 16\n"
     ]
    }
   ],
   "source": [
    "print(f'Number of partitions: {df_spark.rdd.getNumPartitions()}')"
   ]
  },
  {
   "cell_type": "markdown",
   "id": "2aae7d21",
   "metadata": {},
   "source": [
    "##### B.5 Drop the columns VIN, Latitude and Longitude."
   ]
  },
  {
   "cell_type": "code",
   "execution_count": 12,
   "id": "12284a48",
   "metadata": {},
   "outputs": [
    {
     "name": "stdout",
     "output_type": "stream",
     "text": [
      "Number of columns: 19\n"
     ]
    }
   ],
   "source": [
    "# to drop columns\n",
    "df_spark = df_spark.drop('VIN', 'Latitude', 'Longitude')\n",
    "print(f'Number of columns: {len(df_spark.columns)}')"
   ]
  },
  {
   "cell_type": "code",
   "execution_count": 13,
   "id": "d243f138",
   "metadata": {},
   "outputs": [
    {
     "data": {
      "text/plain": [
       "[('Ticket number', 'string'),\n",
       " ('Issue Date', 'timestamp'),\n",
       " ('Issue time', 'double'),\n",
       " ('Meter Id', 'string'),\n",
       " ('Marked Time', 'double'),\n",
       " ('RP State Plate', 'string'),\n",
       " ('Plate Expiry Date', 'double'),\n",
       " ('Make', 'string'),\n",
       " ('Body Style', 'string'),\n",
       " ('Color', 'string'),\n",
       " ('Location', 'string'),\n",
       " ('Route', 'string'),\n",
       " ('Agency', 'double'),\n",
       " ('Violation code', 'string'),\n",
       " ('Violation Description', 'string'),\n",
       " ('Fine amount', 'double'),\n",
       " ('Agency Description', 'string'),\n",
       " ('Color Description', 'string'),\n",
       " ('Body Style Description', 'string')]"
      ]
     },
     "execution_count": 13,
     "metadata": {},
     "output_type": "execute_result"
    }
   ],
   "source": [
    "df_spark.dtypes"
   ]
  },
  {
   "cell_type": "markdown",
   "id": "708d1654",
   "metadata": {},
   "source": [
    "##### B.6 Find the maximum fine amount. How many fines have this amount? You need to convert the ‘fine amount’ column to a float to do this correctly."
   ]
  },
  {
   "cell_type": "code",
   "execution_count": 14,
   "id": "9fc1cd24",
   "metadata": {},
   "outputs": [],
   "source": [
    "# The 'Fine amount' is already of type double because of \n",
    "# inferSchema=True in read.csv() function but if it was not\n",
    "from pyspark.sql.types import FloatType\n",
    "df_spark = df_spark.withColumn('Fine amount', \n",
    "                    df_spark['Fine amount'].cast(FloatType()))"
   ]
  },
  {
   "cell_type": "code",
   "execution_count": 15,
   "id": "8292b4d8",
   "metadata": {},
   "outputs": [
    {
     "name": "stderr",
     "output_type": "stream",
     "text": [
      "                                                                                \r"
     ]
    },
    {
     "name": "stdout",
     "output_type": "stream",
     "text": [
      "+-------+-----------------+\n",
      "|summary|      Fine amount|\n",
      "+-------+-----------------+\n",
      "|  count|         13004253|\n",
      "|   mean|70.97387592582184|\n",
      "| stddev|35.37421970186754|\n",
      "|    min|              1.0|\n",
      "|    max|           1100.0|\n",
      "+-------+-----------------+\n",
      "\n"
     ]
    }
   ],
   "source": [
    "# Simply to see the maximum fine amonut we can call describe()\n",
    "df_spark.select(['Fine amount']).describe().show()"
   ]
  },
  {
   "cell_type": "code",
   "execution_count": 16,
   "id": "d12bc450",
   "metadata": {},
   "outputs": [
    {
     "name": "stderr",
     "output_type": "stream",
     "text": [
      "[Stage 9:==========================================>              (12 + 4) / 16]\r"
     ]
    },
    {
     "name": "stdout",
     "output_type": "stream",
     "text": [
      "+----------------+\n",
      "|max(Fine amount)|\n",
      "+----------------+\n",
      "|          1100.0|\n",
      "+----------------+\n",
      "\n"
     ]
    },
    {
     "name": "stderr",
     "output_type": "stream",
     "text": [
      "                                                                                \r"
     ]
    }
   ],
   "source": [
    "# Or we can find the max amount by aggregation\n",
    "df_spark.agg({\"Fine amount\":\"max\"}).show()"
   ]
  },
  {
   "cell_type": "code",
   "execution_count": 17,
   "id": "9348563a",
   "metadata": {},
   "outputs": [
    {
     "name": "stderr",
     "output_type": "stream",
     "text": [
      "[Stage 12:=============================================>          (13 + 3) / 16]\r"
     ]
    },
    {
     "name": "stdout",
     "output_type": "stream",
     "text": [
      "+-----------+-----+\n",
      "|Fine amount|count|\n",
      "+-----------+-----+\n",
      "|     1100.0|  626|\n",
      "|     1000.0| 1672|\n",
      "|      505.0|    6|\n",
      "|      500.0| 1973|\n",
      "|      363.0|87596|\n",
      "+-----------+-----+\n",
      "only showing top 5 rows\n",
      "\n"
     ]
    },
    {
     "name": "stderr",
     "output_type": "stream",
     "text": [
      "                                                                                \r"
     ]
    }
   ],
   "source": [
    "# For the counts as well\n",
    "from pyspark.sql.functions import col\n",
    "df_spark.select(['Fine amount']).groupBy(\"Fine amount\") \\\n",
    "        .count().sort(col(\"Fine amount\").desc()).show(5)"
   ]
  },
  {
   "cell_type": "markdown",
   "id": "61930793",
   "metadata": {},
   "source": [
    "##### B.7 Show the top 20 most frequent vehicle makes, and their frequencies."
   ]
  },
  {
   "cell_type": "code",
   "execution_count": 18,
   "id": "4194f595",
   "metadata": {},
   "outputs": [
    {
     "name": "stderr",
     "output_type": "stream",
     "text": [
      "[Stage 15:======================================>                 (11 + 5) / 16]\r"
     ]
    },
    {
     "name": "stdout",
     "output_type": "stream",
     "text": [
      "+----+-------+\n",
      "|Make|  count|\n",
      "+----+-------+\n",
      "|TOYT|2150768|\n",
      "|HOND|1479996|\n",
      "|FORD|1116235|\n",
      "|NISS| 945133|\n",
      "|CHEV| 892676|\n",
      "| BMW| 603092|\n",
      "|MERZ| 543298|\n",
      "|VOLK| 432030|\n",
      "|HYUN| 404917|\n",
      "|DODG| 391686|\n",
      "|LEXS| 368420|\n",
      "| KIA| 328155|\n",
      "|JEEP| 316300|\n",
      "|AUDI| 255395|\n",
      "|MAZD| 242344|\n",
      "|OTHR| 205546|\n",
      "| GMC| 184889|\n",
      "|INFI| 174315|\n",
      "|CHRY| 159948|\n",
      "|SUBA| 154640|\n",
      "+----+-------+\n",
      "only showing top 20 rows\n",
      "\n"
     ]
    },
    {
     "name": "stderr",
     "output_type": "stream",
     "text": [
      "                                                                                \r"
     ]
    }
   ],
   "source": [
    "df_spark.select(['Make']).groupBy(\"Make\") \\\n",
    "        .count().sort(col(\"count\").desc()).show(20)"
   ]
  },
  {
   "cell_type": "markdown",
   "id": "aa6ceb76",
   "metadata": {},
   "source": [
    "##### B.8 Let’s expand some abbreviations in the color column. Create a User Defined Function to create a new column, ‘color long’, mapping the original colors to their corresponding values in the dictionary below. If there is no key matching the original color, use the original color."
   ]
  },
  {
   "cell_type": "code",
   "execution_count": 19,
   "id": "dce830c6",
   "metadata": {},
   "outputs": [],
   "source": [
    "COLORS = {\n",
    "'AL':'Aluminum', 'AM':'Amber', 'BG':'Beige', 'BK':'Black',\n",
    "'BL':'Blue', 'BN':'Brown', 'BR':'Brown', 'BZ':'Bronze',\n",
    "'CH':'Charcoal', 'DK':'Dark', 'GD':'Gold', 'GO':'Gold',\n",
    "'GN':'Green', 'GY':'Gray', 'GT':'Granite', 'IV':'Ivory',\n",
    "'LT':'Light', 'OL':'Olive', 'OR':'Orange', 'MR':'Maroon',\n",
    "'PK':'Pink', 'RD':'Red', 'RE':'Red', 'SI':'Silver', 'SL':'Silver',\n",
    "'SM':'Smoke', 'TN':'Tan', 'VT':'Violet', 'WT':'White', 'WH':'White',\n",
    "'YL':'Yellow', 'YE':'Yellow', 'UN':'Unknown'\n",
    "}"
   ]
  },
  {
   "cell_type": "code",
   "execution_count": 20,
   "id": "9810f8bd",
   "metadata": {},
   "outputs": [
    {
     "name": "stderr",
     "output_type": "stream",
     "text": [
      "                                                                                \r"
     ]
    },
    {
     "data": {
      "text/plain": [
       "35337"
      ]
     },
     "execution_count": 20,
     "metadata": {},
     "output_type": "execute_result"
    }
   ],
   "source": [
    "# To get insight from missing, null values from 'Color' column\n",
    "df_spark.filter(df_spark.Color.isNull()).count()"
   ]
  },
  {
   "cell_type": "code",
   "execution_count": 21,
   "id": "19afabd2",
   "metadata": {},
   "outputs": [
    {
     "data": {
      "text/plain": [
       "0"
      ]
     },
     "execution_count": 21,
     "metadata": {},
     "output_type": "execute_result"
    }
   ],
   "source": [
    "# Replace missing, null values with 'Unknown'\n",
    "df_spark = df_spark.na.fill('UN')\n",
    "df_spark.filter(df_spark.Color.isNull()).count()"
   ]
  },
  {
   "cell_type": "code",
   "execution_count": 22,
   "id": "d302d38e",
   "metadata": {},
   "outputs": [],
   "source": [
    "# a User Defined Function can be used in WithColumn()\n",
    "from pyspark.sql.functions import udf\n",
    "\n",
    "def full_color(any_color, color_dict):\n",
    "    default_value = any_color\n",
    "    return color_dict.get(any_color, default_value)\n",
    "\n",
    "my_udf = udf(lambda x: full_color(x, COLORS))"
   ]
  },
  {
   "cell_type": "code",
   "execution_count": 23,
   "id": "50842edb",
   "metadata": {},
   "outputs": [
    {
     "name": "stderr",
     "output_type": "stream",
     "text": [
      "[Stage 23:>                                                         (0 + 1) / 1]\r"
     ]
    },
    {
     "name": "stdout",
     "output_type": "stream",
     "text": [
      "+-----+----------+\n",
      "|Color|color long|\n",
      "+-----+----------+\n",
      "|   GY|      Gray|\n",
      "|   WH|     White|\n",
      "|   BK|     Black|\n",
      "|   WH|     White|\n",
      "|   BK|     Black|\n",
      "|   GY|      Gray|\n",
      "|   BL|      Blue|\n",
      "|   BK|     Black|\n",
      "|   BR|     Brown|\n",
      "|   SI|    Silver|\n",
      "+-----+----------+\n",
      "only showing top 10 rows\n",
      "\n"
     ]
    },
    {
     "name": "stderr",
     "output_type": "stream",
     "text": [
      "                                                                                \r"
     ]
    }
   ],
   "source": [
    "# To add the new column\n",
    "df_spark = df_spark.withColumn('color long', \\\n",
    "                        my_udf(df_spark['Color']))\n",
    "df_spark.select(['Color', 'color long']).show(10)"
   ]
  },
  {
   "cell_type": "markdown",
   "id": "7f3eae53",
   "metadata": {},
   "source": [
    "##### B.9 Using this new column, what’s the most frequent colour value for Toyotas (TOYT)?"
   ]
  },
  {
   "cell_type": "code",
   "execution_count": 24,
   "id": "33b4698d",
   "metadata": {},
   "outputs": [
    {
     "name": "stderr",
     "output_type": "stream",
     "text": [
      "[Stage 24:====================================================>   (15 + 1) / 16]\r"
     ]
    },
    {
     "name": "stdout",
     "output_type": "stream",
     "text": [
      "+----+----------+------+\n",
      "|Make|color long| count|\n",
      "+----+----------+------+\n",
      "|TOYT|      Gray|489697|\n",
      "|TOYT|     White|434595|\n",
      "|TOYT|     Black|353812|\n",
      "|TOYT|    Silver|347894|\n",
      "|TOYT|      Blue|180091|\n",
      "|TOYT|       Red|119074|\n",
      "|TOYT|     Green| 74968|\n",
      "|TOYT|      Gold| 40646|\n",
      "|TOYT|    Maroon| 26242|\n",
      "|TOYT|       Tan| 23355|\n",
      "|TOYT|     Beige| 15723|\n",
      "|TOYT|        OT| 15719|\n",
      "|TOYT|     Brown| 11454|\n",
      "|TOYT|    Yellow|  4372|\n",
      "|TOYT|        PR|  4272|\n",
      "|TOYT|    Orange|  3575|\n",
      "|TOYT|   Unknown|  2783|\n",
      "|TOYT|        TU|  1647|\n",
      "|TOYT|        CO|   730|\n",
      "|TOYT|      Pink|   117|\n",
      "+----+----------+------+\n",
      "only showing top 20 rows\n",
      "\n"
     ]
    },
    {
     "name": "stderr",
     "output_type": "stream",
     "text": [
      "                                                                                \r"
     ]
    }
   ],
   "source": [
    "toyota_colors = df_spark.groupBy('Make', 'color long') \\\n",
    "                        .count().sort(col(\"count\").desc()) \\\n",
    "                        .filter(df_spark['Make'] == 'TOYT')\n",
    "toyota_colors.show(20)"
   ]
  },
  {
   "cell_type": "code",
   "execution_count": 25,
   "id": "32bd1ede",
   "metadata": {},
   "outputs": [
    {
     "name": "stderr",
     "output_type": "stream",
     "text": [
      "                                                                                \r"
     ]
    }
   ],
   "source": [
    "# Prepration for a barplot\n",
    "toyota_colors = toyota_colors.collect()\n",
    "counts = [x['count'] for x in toyota_colors]\n",
    "colors = [x['color long'] for x in toyota_colors]"
   ]
  },
  {
   "cell_type": "code",
   "execution_count": 26,
   "id": "730359fe",
   "metadata": {},
   "outputs": [],
   "source": [
    "import matplotlib.colors as mcolors\n",
    "color_for_bars = []\n",
    "for color in colors:\n",
    "    if color.lower() in mcolors.CSS4_COLORS:\n",
    "        color_for_bars.append(color)\n",
    "    else:\n",
    "        color_for_bars.append('White')"
   ]
  },
  {
   "cell_type": "code",
   "execution_count": 27,
   "id": "9d04ab27",
   "metadata": {},
   "outputs": [
    {
     "data": {
      "image/png": "[encoded data removed]",
      "text/plain": [
       "<Figure size 432x288 with 1 Axes>"
      ]
     },
     "metadata": {
      "needs_background": "light"
     },
     "output_type": "display_data"
    }
   ],
   "source": [
    "import matplotlib.pyplot as plt\n",
    "import matplotlib.colors as mcolors\n",
    "fig = plt.figure()\n",
    "ax = fig.add_axes([0,0,1,1])\n",
    "ax.bar(colors, counts, color=color_for_bars, edgecolor='Black')\n",
    "    \n",
    "plt.title(\"Toyota colors in LA, 1993\")\n",
    "plt.xlabel(\"Different colors\")\n",
    "plt.ylabel(\"Number of cars\")\n",
    "plt.xticks(rotation='vertical')\n",
    "plt.show()"
   ]
  },
  {
   "cell_type": "code",
   "execution_count": 28,
   "id": "4e5e1bf9",
   "metadata": {},
   "outputs": [
    {
     "name": "stdout",
     "output_type": "stream",
     "text": [
      "Done!\n"
     ]
    }
   ],
   "source": [
    "# To stop the underlying SparkContext\n",
    "spark_session.stop()\n",
    "print(\"Done!\")"
   ]
  },
  {
   "cell_type": "code",
   "execution_count": null,
   "id": "3176b1e9",
   "metadata": {},
   "outputs": [],
   "source": []
  }
 ],
 "metadata": {
  "kernelspec": {
   "display_name": "Python 3 (ipykernel)",
   "language": "python",
   "name": "python3"
  },
  "language_info": {
   "codemirror_mode": {
    "name": "ipython",
    "version": 3
   },
   "file_extension": ".py",
   "mimetype": "text/x-python",
   "name": "python",
   "nbconvert_exporter": "python",
   "pygments_lexer": "ipython3",
   "version": "3.8.10"
  },
  "varInspector": {
   "cols": {
    "lenName": 16,
    "lenType": 16,
    "lenVar": 40
   },
   "kernels_config": {
    "python": {
     "delete_cmd_postfix": "",
     "delete_cmd_prefix": "del ",
     "library": "var_list.py",
     "varRefreshCmd": "print(var_dic_list())"
    },
    "r": {
     "delete_cmd_postfix": ") ",
     "delete_cmd_prefix": "rm(",
     "library": "var_list.r",
     "varRefreshCmd": "cat(var_dic_list()) "
    }
   },
   "types_to_exclude": [
    "module",
    "function",
    "builtin_function_or_method",
    "instance",
    "_Feature"
   ],
   "window_display": false
  }
 },
 "nbformat": 4,
 "nbformat_minor": 5
}
