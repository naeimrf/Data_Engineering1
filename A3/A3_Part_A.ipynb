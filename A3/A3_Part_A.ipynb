{
 "cells": [
  {
   "cell_type": "code",
   "execution_count": 1,
   "id": "4c47a1ae",
   "metadata": {},
   "outputs": [],
   "source": [
    "# Importing needed libraries to work with Spark through Python API\n",
    "from pyspark.sql import SparkSession\n",
    "from pyspark import SparkConf"
   ]
  },
  {
   "cell_type": "markdown",
   "id": "52601aaf",
   "metadata": {},
   "source": [
    "#### Release this cell for server version\n",
    "##### New API\n",
    "spark_session = SparkSession\\\n",
    "        .builder\\\n",
    "        .master(\"spark://192.168.2.119:7077\") \\\n",
    "        .appName(\"Naeim_Rashidfarokhi_A3_A\")\\\n",
    "        .config(\"spark.dynamicAllocation.enabled\", True)\\\n",
    "        .config(\"spark.dynamicAllocation.shuffleTracking.enabled\",True)\\\n",
    "        .config(\"spark.shuffle.service.enabled\", False)\\\n",
    "        .config(\"spark.dynamicAllocation.executorIdleTimeout\",\"30s\")\\\n",
    "        .config(\"spark.executor.cores\",2)\\\n",
    "        .config(\"spark.driver.port\",9998)\\\n",
    "        .config(\"spark.blockManager.port\",10005)\\\n",
    "        .getOrCreate()\n",
    "\n",
    "##### Old API (RDD)\n",
    "spark_context = spark_session.sparkContext\n",
    "\n",
    "spark_context.setLogLevel(\"ERROR\")"
   ]
  },
  {
   "cell_type": "code",
   "execution_count": 2,
   "id": "1dd567f9",
   "metadata": {},
   "outputs": [
    {
     "name": "stderr",
     "output_type": "stream",
     "text": [
      "22/02/28 22:51:26 WARN Utils: Your hostname, nanook resolves to a loopback address: 127.0.1.1; using 192.168.1.69 instead (on interface enp5s0)\n",
      "22/02/28 22:51:26 WARN Utils: Set SPARK_LOCAL_IP if you need to bind to another address\n",
      "WARNING: An illegal reflective access operation has occurred\n",
      "WARNING: Illegal reflective access by org.apache.spark.unsafe.Platform (file:/home/naeim/anaconda3/lib/python3.8/site-packages/pyspark/jars/spark-unsafe_2.12-3.2.1.jar) to constructor java.nio.DirectByteBuffer(long,int)\n",
      "WARNING: Please consider reporting this to the maintainers of org.apache.spark.unsafe.Platform\n",
      "WARNING: Use --illegal-access=warn to enable warnings of further illegal reflective access operations\n",
      "WARNING: All illegal access operations will be denied in a future release\n",
      "Using Spark's default log4j profile: org/apache/spark/log4j-defaults.properties\n",
      "Setting default log level to \"WARN\".\n",
      "To adjust logging level use sc.setLogLevel(newLevel). For SparkR, use setLogLevel(newLevel).\n",
      "22/02/28 22:51:27 WARN NativeCodeLoader: Unable to load native-hadoop library for your platform... using builtin-java classes where applicable\n"
     ]
    }
   ],
   "source": [
    "# local version, deactivate later!\n",
    "spark_session = SparkSession.builder.appName('A3_A').getOrCreate()"
   ]
  },
  {
   "cell_type": "code",
   "execution_count": 3,
   "id": "1c76d2eb",
   "metadata": {},
   "outputs": [
    {
     "data": {
      "text/html": [
       "\n",
       "            <div>\n",
       "                <p><b>SparkSession - in-memory</b></p>\n",
       "                \n",
       "        <div>\n",
       "            <p><b>SparkContext</b></p>\n",
       "\n",
       "            <p><a href=\"http://192.168.1.69:4040\">Spark UI</a></p>\n",
       "\n",
       "            <dl>\n",
       "              <dt>Version</dt>\n",
       "                <dd><code>v3.2.1</code></dd>\n",
       "              <dt>Master</dt>\n",
       "                <dd><code>local[*]</code></dd>\n",
       "              <dt>AppName</dt>\n",
       "                <dd><code>A3_A</code></dd>\n",
       "            </dl>\n",
       "        </div>\n",
       "        \n",
       "            </div>\n",
       "        "
      ],
      "text/plain": [
       "<pyspark.sql.session.SparkSession at 0x7fc490513ee0>"
      ]
     },
     "execution_count": 3,
     "metadata": {},
     "output_type": "execute_result"
    }
   ],
   "source": [
    "spark_session"
   ]
  },
  {
   "cell_type": "code",
   "execution_count": 4,
   "id": "8c030d69",
   "metadata": {},
   "outputs": [],
   "source": [
    "# To access RDD, the old API, we need an object of sparkContext\n",
    "sc = spark_session.sparkContext"
   ]
  },
  {
   "cell_type": "markdown",
   "id": "3343ec09",
   "metadata": {},
   "source": [
    "## Question A.1\n",
    "#### A.1.1 & A.1.2 Read the English and Swedish transcripts with Spark, and count the number of lines."
   ]
  },
  {
   "cell_type": "code",
   "execution_count": 5,
   "id": "0337ff2e",
   "metadata": {},
   "outputs": [
    {
     "data": {
      "text/plain": [
       "(pyspark.rdd.RDD, pyspark.rdd.RDD)"
      ]
     },
     "execution_count": 5,
     "metadata": {},
     "output_type": "execute_result"
    }
   ],
   "source": [
    "# to read data with the old API\n",
    "rdd_EN = sc.textFile(\"/home/naeim/Desktop/DE1/europarl-v7.sv-en.en\")\n",
    "rdd_SW = sc.textFile(\"/home/naeim/Desktop/DE1/europarl-v7.sv-en.sv\")\n",
    "type(rdd_EN), type(rdd_SW)"
   ]
  },
  {
   "cell_type": "code",
   "execution_count": 6,
   "id": "117e9289",
   "metadata": {},
   "outputs": [
    {
     "name": "stderr",
     "output_type": "stream",
     "text": [
      "                                                                                \r"
     ]
    },
    {
     "data": {
      "text/plain": [
       "(['Resumption of the session',\n",
       "  'I declare resumed the session of the European Parliament adjourned on Friday 17 December 1999, and I would like once again to wish you a happy new year in the hope that you enjoyed a pleasant festive period.'],\n",
       " ['Återupptagande av sessionen',\n",
       "  'Jag förklarar Europaparlamentets session återupptagen efter avbrottet den 17 december. Jag vill på nytt önska er ett gott nytt år och jag hoppas att ni haft en trevlig semester.'])"
      ]
     },
     "execution_count": 6,
     "metadata": {},
     "output_type": "execute_result"
    }
   ],
   "source": [
    "# to get some insight about loaded text\n",
    "rdd_EN.take(2), rdd_SW.take(2)"
   ]
  },
  {
   "cell_type": "code",
   "execution_count": 7,
   "id": "b5261cb5",
   "metadata": {},
   "outputs": [
    {
     "name": "stderr",
     "output_type": "stream",
     "text": [
      "[Stage 3:====================================================>      (8 + 1) / 9]\r"
     ]
    },
    {
     "name": "stdout",
     "output_type": "stream",
     "text": [
      "The number of rows in Enlgish file:1862234\n",
      "The number of rows in Swedish file:1862234\n"
     ]
    },
    {
     "name": "stderr",
     "output_type": "stream",
     "text": [
      "\r",
      "                                                                                \r"
     ]
    }
   ],
   "source": [
    "nbr_lines_EN = rdd_EN.count()\n",
    "nbr_lines_SW = rdd_SW.count()\n",
    "print(f\"The number of rows in Enlgish file:{nbr_lines_EN}\")\n",
    "print(f\"The number of rows in Swedish file:{nbr_lines_SW}\")"
   ]
  },
  {
   "cell_type": "markdown",
   "id": "51c574af",
   "metadata": {},
   "source": [
    "#### A.1.3 Verify that the line counts are the same for the two languages."
   ]
  },
  {
   "cell_type": "code",
   "execution_count": 8,
   "id": "44b69a5f",
   "metadata": {},
   "outputs": [
    {
     "name": "stdout",
     "output_type": "stream",
     "text": [
      "Similar line counts in both documents!\n"
     ]
    }
   ],
   "source": [
    "def check_line_counts(a, b):\n",
    "    if a == b:\n",
    "        print(\"Similar line counts in both documents!\")\n",
    "    else:\n",
    "        print(\"Different line counts in both documents!\")\n",
    "\n",
    "check_line_counts(nbr_lines_EN, nbr_lines_SW)"
   ]
  },
  {
   "cell_type": "markdown",
   "id": "0024377c",
   "metadata": {},
   "source": [
    "#### A.1.4 Count the number of partitions."
   ]
  },
  {
   "cell_type": "code",
   "execution_count": 9,
   "id": "d46c6cc7",
   "metadata": {},
   "outputs": [
    {
     "data": {
      "text/plain": [
       "(9, 9)"
      ]
     },
     "execution_count": 9,
     "metadata": {},
     "output_type": "execute_result"
    }
   ],
   "source": [
    "rdd_EN.getNumPartitions(), rdd_SW.getNumPartitions()"
   ]
  },
  {
   "cell_type": "markdown",
   "id": "f855ae9d",
   "metadata": {},
   "source": [
    "## Question A.2\n",
    "#### A.2.1 Pre-process the text from both RDDs by doing the following"
   ]
  },
  {
   "cell_type": "code",
   "execution_count": 10,
   "id": "98e992ae",
   "metadata": {},
   "outputs": [],
   "source": [
    "import re # to keep only alpha-numeric characters\n",
    "def lower_the_tokens(lines):\n",
    "    words = lines.map(lambda line: \\\n",
    "        re.sub(\"[^åäöÅÄÖa-zA-Z0-9\\s]+\",\"\", line).lower().split(' '))\n",
    "    return words"
   ]
  },
  {
   "cell_type": "code",
   "execution_count": 11,
   "id": "27a6e940",
   "metadata": {},
   "outputs": [
    {
     "data": {
      "text/plain": [
       "(pyspark.rdd.PipelinedRDD, pyspark.rdd.PipelinedRDD)"
      ]
     },
     "execution_count": 11,
     "metadata": {},
     "output_type": "execute_result"
    }
   ],
   "source": [
    "rdd_EN_pre = lower_the_tokens(rdd_EN)\n",
    "rdd_SW_pre = lower_the_tokens(rdd_SW)\n",
    "type(rdd_EN_pre), type(rdd_SW_pre)"
   ]
  },
  {
   "cell_type": "markdown",
   "id": "b9783298",
   "metadata": {},
   "source": [
    "#### A.2.2 Inspect 10 entries from each of your RDDs to verify your pre-processing."
   ]
  },
  {
   "cell_type": "code",
   "execution_count": 12,
   "id": "cbe02dee",
   "metadata": {},
   "outputs": [
    {
     "name": "stderr",
     "output_type": "stream",
     "text": [
      "[Stage 5:>                                                          (0 + 1) / 1]\r"
     ]
    },
    {
     "name": "stdout",
     "output_type": "stream",
     "text": [
      "[['resumption', 'of', 'the', 'session'], ['i', 'declare', 'resumed', 'the', 'session', 'of', 'the', 'european', 'parliament', 'adjourned', 'on', 'friday', '17', 'december', '1999', 'and', 'i', 'would', 'like', 'once', 'again', 'to', 'wish', 'you', 'a', 'happy', 'new', 'year', 'in', 'the', 'hope', 'that', 'you', 'enjoyed', 'a', 'pleasant', 'festive', 'period'], ['although', 'as', 'you', 'will', 'have', 'seen', 'the', 'dreaded', 'millennium', 'bug', 'failed', 'to', 'materialise', 'still', 'the', 'people', 'in', 'a', 'number', 'of', 'countries', 'suffered', 'a', 'series', 'of', 'natural', 'disasters', 'that', 'truly', 'were', 'dreadful'], ['you', 'have', 'requested', 'a', 'debate', 'on', 'this', 'subject', 'in', 'the', 'course', 'of', 'the', 'next', 'few', 'days', 'during', 'this', 'partsession'], ['in', 'the', 'meantime', 'i', 'should', 'like', 'to', 'observe', 'a', 'minute', 's', 'silence', 'as', 'a', 'number', 'of', 'members', 'have', 'requested', 'on', 'behalf', 'of', 'all', 'the', 'victims', 'concerned', 'particularly', 'those', 'of', 'the', 'terrible', 'storms', 'in', 'the', 'various', 'countries', 'of', 'the', 'european', 'union'], ['please', 'rise', 'then', 'for', 'this', 'minute', 's', 'silence'], ['the', 'house', 'rose', 'and', 'observed', 'a', 'minute', 's', 'silence'], ['madam', 'president', 'on', 'a', 'point', 'of', 'order'], ['you', 'will', 'be', 'aware', 'from', 'the', 'press', 'and', 'television', 'that', 'there', 'have', 'been', 'a', 'number', 'of', 'bomb', 'explosions', 'and', 'killings', 'in', 'sri', 'lanka'], ['one', 'of', 'the', 'people', 'assassinated', 'very', 'recently', 'in', 'sri', 'lanka', 'was', 'mr', 'kumar', 'ponnambalam', 'who', 'had', 'visited', 'the', 'european', 'parliament', 'just', 'a', 'few', 'months', 'ago']] [['återupptagande', 'av', 'sessionen'], ['jag', 'förklarar', 'europaparlamentets', 'session', 'återupptagen', 'efter', 'avbrottet', 'den', '17', 'december', 'jag', 'vill', 'på', 'nytt', 'önska', 'er', 'ett', 'gott', 'nytt', 'år', 'och', 'jag', 'hoppas', 'att', 'ni', 'haft', 'en', 'trevlig', 'semester'], ['som', 'ni', 'kunnat', 'konstatera', 'ägde', 'den', 'stora', 'år', '2000buggen', 'aldrig', 'rum', 'däremot', 'har', 'invånarna', 'i', 'ett', 'antal', 'av', 'våra', 'medlemsländer', 'drabbats', 'av', 'naturkatastrofer', 'som', 'verkligen', 'varit', 'förskräckliga'], ['ni', 'har', 'begärt', 'en', 'debatt', 'i', 'ämnet', 'under', 'sammanträdesperiodens', 'kommande', 'dagar'], ['till', 'dess', 'vill', 'jag', 'att', 'vi', 'som', 'ett', 'antal', 'kolleger', 'begärt', 'håller', 'en', 'tyst', 'minut', 'för', 'offren', 'för', 'bla', 'stormarna', 'i', 'de', 'länder', 'i', 'europeiska', 'unionen', 'som', 'drabbats'], ['jag', 'ber', 'er', 'resa', 'er', 'för', 'en', 'tyst', 'minut'], ['parlamentet', 'höll', 'en', 'tyst', 'minut'], ['fru', 'talman', 'det', 'gäller', 'en', 'ordningsfråga'], ['ni', 'känner', 'till', 'från', 'media', 'att', 'det', 'skett', 'en', 'rad', 'bombexplosioner', 'och', 'mord', 'i', 'sri', 'lanka'], ['en', 'av', 'de', 'personer', 'som', 'mycket', 'nyligen', 'mördades', 'i', 'sri', 'lanka', 'var', 'kumar', 'ponnambalam', 'som', 'besökte', 'europaparlamentet', 'för', 'bara', 'några', 'månader', 'sedan']]\n"
     ]
    },
    {
     "name": "stderr",
     "output_type": "stream",
     "text": [
      "\r",
      "                                                                                \r"
     ]
    }
   ],
   "source": [
    "print(rdd_EN_pre.take(10), rdd_SW_pre.take(10))"
   ]
  },
  {
   "cell_type": "markdown",
   "id": "af0184db",
   "metadata": {},
   "source": [
    "#### A.2.3 Verify that the line counts still match after the pre-processing."
   ]
  },
  {
   "cell_type": "code",
   "execution_count": 13,
   "id": "46457627",
   "metadata": {},
   "outputs": [
    {
     "name": "stderr",
     "output_type": "stream",
     "text": [
      "[Stage 7:====================================================>      (8 + 1) / 9]\r"
     ]
    },
    {
     "name": "stdout",
     "output_type": "stream",
     "text": [
      "The number of rows in Enlgish file:1862234\n",
      "The number of rows in Swedish file:1862234\n",
      "Similar line counts in both documents!\n"
     ]
    },
    {
     "name": "stderr",
     "output_type": "stream",
     "text": [
      "\r",
      "                                                                                \r"
     ]
    }
   ],
   "source": [
    "nbr_lines_EN_pre = rdd_EN_pre.count()\n",
    "nbr_lines_SW_pre = rdd_SW_pre.count()\n",
    "print(f\"The number of rows in Enlgish file:{nbr_lines_EN_pre}\")\n",
    "print(f\"The number of rows in Swedish file:{nbr_lines_SW_pre}\")\n",
    "check_line_counts(nbr_lines_EN_pre, nbr_lines_SW_pre)"
   ]
  },
  {
   "cell_type": "markdown",
   "id": "bddc6fea",
   "metadata": {},
   "source": [
    "## Question 1.A.3\n",
    "#### A.3.1 Use Spark to compute the 10 most frequently according words in the English language corpus. Repeat for the other language."
   ]
  },
  {
   "cell_type": "code",
   "execution_count": 14,
   "id": "15a35f16",
   "metadata": {},
   "outputs": [],
   "source": [
    "def get_frequent_words(lines, counts=True, nbr=10):\n",
    "    \n",
    "    # mapping the words in pairs\n",
    "    words_flatten =  lines.flatMap(lambda word: word)\n",
    "    words_pairs =  words_flatten.map(lambda x: (x,1))\n",
    "    \n",
    "    # reducing pairs\n",
    "    if counts:\n",
    "        #return RDD of word counts\n",
    "        word_counts = words_pairs.reduceByKey(lambda a, b : a + b)\n",
    "        # find the highest frequencies\n",
    "        word_counts = word_counts.map(lambda x: (x[1], x[0])).sortByKey(False)\n",
    "        print(word_counts.take(nbr))\n",
    "        \n",
    "    else: \n",
    "        # countByKey() returns dictionary\n",
    "        word_counts = words_pairs.countByKey()\n",
    "        word_counts = sorted(word_counts, key = word_counts.get, reverse = True)\n",
    "        print(word_counts[:nbr])\n",
    "        \n",
    "    return word_counts"
   ]
  },
  {
   "cell_type": "code",
   "execution_count": 15,
   "id": "ca24cb94",
   "metadata": {},
   "outputs": [
    {
     "name": "stderr",
     "output_type": "stream",
     "text": [
      "                                                                                \r"
     ]
    },
    {
     "name": "stdout",
     "output_type": "stream",
     "text": [
      "[(3505085, 'the'), (1662002, 'of'), (1543739, 'to'), (1318342, 'and'), (1088891, 'in'), (839072, 'that'), (774941, 'is'), (774540, 'a'), (538191, 'for'), (526480, 'we')]\n"
     ]
    },
    {
     "name": "stderr",
     "output_type": "stream",
     "text": [
      "[Stage 20:===================================================>      (8 + 1) / 9]\r"
     ]
    },
    {
     "name": "stdout",
     "output_type": "stream",
     "text": [
      "[(1709936, 'att'), (1350369, 'och'), (1054249, 'i'), (952985, 'det'), (917580, 'som'), (915079, 'för'), (740724, 'av'), (701840, 'är'), (636827, 'en'), (546068, 'vi')]\n"
     ]
    },
    {
     "name": "stderr",
     "output_type": "stream",
     "text": [
      "\r",
      "                                                                                \r"
     ]
    }
   ],
   "source": [
    "rdd_EN_pairs =  get_frequent_words(rdd_EN_pre, counts=True, nbr=10)\n",
    "rdd_SW_pairs =  get_frequent_words(rdd_SW_pre, counts=True, nbr=10)"
   ]
  },
  {
   "cell_type": "markdown",
   "id": "e6b94d0a",
   "metadata": {},
   "source": [
    "#### A.3.2 Verify that your results are reasonable."
   ]
  },
  {
   "cell_type": "code",
   "execution_count": 16,
   "id": "53a57410",
   "metadata": {},
   "outputs": [
    {
     "name": "stderr",
     "output_type": "stream",
     "text": [
      "                                                                                \r"
     ]
    },
    {
     "name": "stdout",
     "output_type": "stream",
     "text": [
      "['the', 'of', 'to', 'and', 'in', 'that', 'is', 'a', 'for', 'we']\n"
     ]
    },
    {
     "name": "stderr",
     "output_type": "stream",
     "text": [
      "                                                                                \r"
     ]
    },
    {
     "name": "stdout",
     "output_type": "stream",
     "text": [
      "['att', 'och', 'i', 'det', 'som', 'för', 'av', 'är', 'en', 'vi']\n"
     ]
    }
   ],
   "source": [
    "# looking at the results above, the conuts do not exatly match word by word\n",
    "# but comparing the most 10 frequent words in both lists, they are reasonable!\n",
    "words_list_EN =  get_frequent_words(rdd_EN_pre, counts=False, nbr=10)\n",
    "words_list_SW =  get_frequent_words(rdd_SW_pre, counts=False, nbr=10)"
   ]
  },
  {
   "cell_type": "code",
   "execution_count": 17,
   "id": "3172250b",
   "metadata": {},
   "outputs": [
    {
     "name": "stdout",
     "output_type": "stream",
     "text": [
      "The total number of unique words in English corpus:127332\n",
      "The total number of unique words in Swedish corpus:343473\n"
     ]
    }
   ],
   "source": [
    "print(f\"The total number of unique words in English corpus:{len(words_list_EN)}\")\n",
    "print(f\"The total number of unique words in Swedish corpus:{len(words_list_SW)}\")"
   ]
  },
  {
   "cell_type": "markdown",
   "id": "af8ebe39",
   "metadata": {},
   "source": [
    "## Question A.4\n",
    "#### A.4.1 Use this parallel corpus to mine some translations in the form of word pairs, for the two languages. Do this by pairing words found on short lines with the same number of words respectively. We (incorrectly) assume the words stay in the same order when translated."
   ]
  },
  {
   "cell_type": "markdown",
   "id": "73b7be2d",
   "metadata": {},
   "source": [
    "##### Step1: Key the lines by their line number (hint: ZipWithIndex())"
   ]
  },
  {
   "cell_type": "code",
   "execution_count": 18,
   "id": "64e21197",
   "metadata": {},
   "outputs": [],
   "source": [
    "en1 = rdd_EN_pre.coalesce(1).zipWithIndex()\n",
    "sv1 = rdd_SW_pre.coalesce(1).zipWithIndex()\n",
    "# en1 = rdd_EN_pre.repartition(9).zipWithIndex()\n",
    "# sv1 = rdd_SW_pre.repartition(9).zipWithIndex()"
   ]
  },
  {
   "cell_type": "code",
   "execution_count": 19,
   "id": "a56ea777",
   "metadata": {},
   "outputs": [
    {
     "name": "stderr",
     "output_type": "stream",
     "text": [
      "[Stage 25:>                                                         (0 + 1) / 1]\r"
     ]
    },
    {
     "name": "stdout",
     "output_type": "stream",
     "text": [
      "[(['resumption', 'of', 'the', 'session'], 0), (['i', 'declare', 'resumed', 'the', 'session', 'of', 'the', 'european', 'parliament', 'adjourned', 'on', 'friday', '17', 'december', '1999', 'and', 'i', 'would', 'like', 'once', 'again', 'to', 'wish', 'you', 'a', 'happy', 'new', 'year', 'in', 'the', 'hope', 'that', 'you', 'enjoyed', 'a', 'pleasant', 'festive', 'period'], 1), (['although', 'as', 'you', 'will', 'have', 'seen', 'the', 'dreaded', 'millennium', 'bug', 'failed', 'to', 'materialise', 'still', 'the', 'people', 'in', 'a', 'number', 'of', 'countries', 'suffered', 'a', 'series', 'of', 'natural', 'disasters', 'that', 'truly', 'were', 'dreadful'], 2)] [(['återupptagande', 'av', 'sessionen'], 0), (['jag', 'förklarar', 'europaparlamentets', 'session', 'återupptagen', 'efter', 'avbrottet', 'den', '17', 'december', 'jag', 'vill', 'på', 'nytt', 'önska', 'er', 'ett', 'gott', 'nytt', 'år', 'och', 'jag', 'hoppas', 'att', 'ni', 'haft', 'en', 'trevlig', 'semester'], 1), (['som', 'ni', 'kunnat', 'konstatera', 'ägde', 'den', 'stora', 'år', '2000buggen', 'aldrig', 'rum', 'däremot', 'har', 'invånarna', 'i', 'ett', 'antal', 'av', 'våra', 'medlemsländer', 'drabbats', 'av', 'naturkatastrofer', 'som', 'verkligen', 'varit', 'förskräckliga'], 2)]\n"
     ]
    },
    {
     "name": "stderr",
     "output_type": "stream",
     "text": [
      "\r",
      "                                                                                \r"
     ]
    }
   ],
   "source": [
    "print(en1.take(3), sv1.take(3))"
   ]
  },
  {
   "cell_type": "markdown",
   "id": "27dfad4f",
   "metadata": {},
   "source": [
    "##### Step2: Swap the key and value - so that the line number is the key"
   ]
  },
  {
   "cell_type": "code",
   "execution_count": 20,
   "id": "55cc10b0",
   "metadata": {},
   "outputs": [],
   "source": [
    "en2 = en1.map(lambda x: (x[1], x[0]))\n",
    "sv2 = sv1.map(lambda x: (x[1], x[0]))"
   ]
  },
  {
   "cell_type": "code",
   "execution_count": 21,
   "id": "5893882c",
   "metadata": {},
   "outputs": [
    {
     "name": "stderr",
     "output_type": "stream",
     "text": [
      "[Stage 27:>                                                         (0 + 1) / 1]\r"
     ]
    },
    {
     "name": "stdout",
     "output_type": "stream",
     "text": [
      "[(0, ['resumption', 'of', 'the', 'session']), (1, ['i', 'declare', 'resumed', 'the', 'session', 'of', 'the', 'european', 'parliament', 'adjourned', 'on', 'friday', '17', 'december', '1999', 'and', 'i', 'would', 'like', 'once', 'again', 'to', 'wish', 'you', 'a', 'happy', 'new', 'year', 'in', 'the', 'hope', 'that', 'you', 'enjoyed', 'a', 'pleasant', 'festive', 'period']), (2, ['although', 'as', 'you', 'will', 'have', 'seen', 'the', 'dreaded', 'millennium', 'bug', 'failed', 'to', 'materialise', 'still', 'the', 'people', 'in', 'a', 'number', 'of', 'countries', 'suffered', 'a', 'series', 'of', 'natural', 'disasters', 'that', 'truly', 'were', 'dreadful'])] [(0, ['återupptagande', 'av', 'sessionen']), (1, ['jag', 'förklarar', 'europaparlamentets', 'session', 'återupptagen', 'efter', 'avbrottet', 'den', '17', 'december', 'jag', 'vill', 'på', 'nytt', 'önska', 'er', 'ett', 'gott', 'nytt', 'år', 'och', 'jag', 'hoppas', 'att', 'ni', 'haft', 'en', 'trevlig', 'semester']), (2, ['som', 'ni', 'kunnat', 'konstatera', 'ägde', 'den', 'stora', 'år', '2000buggen', 'aldrig', 'rum', 'däremot', 'har', 'invånarna', 'i', 'ett', 'antal', 'av', 'våra', 'medlemsländer', 'drabbats', 'av', 'naturkatastrofer', 'som', 'verkligen', 'varit', 'förskräckliga'])]\n"
     ]
    },
    {
     "name": "stderr",
     "output_type": "stream",
     "text": [
      "\r",
      "                                                                                \r"
     ]
    }
   ],
   "source": [
    "print(en2.take(3), sv2.take(3))"
   ]
  },
  {
   "cell_type": "markdown",
   "id": "af0c3809",
   "metadata": {},
   "source": [
    "##### Step3: Join the two RDDs together according to the line number key, so you have pairs of matching lines"
   ]
  },
  {
   "cell_type": "code",
   "execution_count": 22,
   "id": "1b8bde0d",
   "metadata": {},
   "outputs": [],
   "source": [
    "# read the difference of join and union here:\n",
    "# https://stackoverflow.com/questions/34249247/difference-between-join-and-union-followed-by-groupbykey-in-spark\n",
    "en_sv3 = en2.union(sv2)\n",
    "en_sv3 = en_sv3.groupByKey().mapValues(list)"
   ]
  },
  {
   "cell_type": "code",
   "execution_count": 23,
   "id": "7dc9339e",
   "metadata": {},
   "outputs": [
    {
     "name": "stderr",
     "output_type": "stream",
     "text": [
      "[Stage 29:>                                                         (0 + 1) / 1]\r"
     ]
    },
    {
     "name": "stdout",
     "output_type": "stream",
     "text": [
      "[(4370, [['i', 'am', 'beginning', 'to', 'feel', 'a', 'little', 'worried', 'because', 'this', 'may', 'lead', 'partially', 'at', 'least', 'to', 'exclusion'], ['jag', 'blir', 'rädd', 'herr', 'rådsordförande', 'för', 'det', 'är', 'en', 'sådan', 'utveckling', 'som', 'leder', 'åtminstone', 'delvis', 'till', 'social', 'utslagning']]), (6270, [['mr', 'president', 'commissioner', 'this', 'debate', 'is', 'not', 'a', 'technical', 'debate', 'contrary', 'to', 'what', 'we', 'may', 'think'], ['herr', 'talman', 'fru', 'kommissionär', 'kära', 'kolleger', 'i', 'motsats', 'till', 'vad', 'vi', 'skulle', 'kunna', 'tro', 'är', 'denna', 'debatt', 'inte', 'av', 'teknisk', 'art']]), (7798, [['in', 'fact', 'this', 'initiative', 'was', 'the', 'subject', 'of', 'a', 'very', 'lively', 'debate', 'in', 'committee', 'and', 'given', 'that', 'it', 'is', 'a', 'major', 'commission', 'proposal', 'which', 'refers', 'to', 'the', 'agreements', 'we', 'reached', 'last', 'year', 'i', 'consider', 'it', 'admissible'], ['detta', 'initiativ', 'har', 'faktiskt', 'diskuterats', 'mycket', 'livligt', 'i', 'utskottet', 'och', 'eftersom', 'det', 'är', 'ett', 'viktigt', 'förslag', 'från', 'kommissionen', 'som', 'gäller', 'de', 'överenskommelser', 'vi', 'träffade', 'förra', 'året', 'tycker', 'jag', 'att', 'det', 'kan', 'antas']])]\n"
     ]
    },
    {
     "name": "stderr",
     "output_type": "stream",
     "text": [
      "\r",
      "                                                                                \r"
     ]
    }
   ],
   "source": [
    "print(en_sv3.take(3))"
   ]
  },
  {
   "cell_type": "markdown",
   "id": "054d8d23",
   "metadata": {},
   "source": [
    "##### Step4: Filter to exclude line pairs that have an empty/missing “corresponding” sentence"
   ]
  },
  {
   "cell_type": "code",
   "execution_count": 24,
   "id": "827d8255",
   "metadata": {},
   "outputs": [],
   "source": [
    "en_sv4 = en_sv3.filter(lambda x: (len(x[1][0])!=0) and (x[1][0]!=''))"
   ]
  },
  {
   "cell_type": "code",
   "execution_count": 25,
   "id": "d7d24360",
   "metadata": {},
   "outputs": [
    {
     "name": "stderr",
     "output_type": "stream",
     "text": [
      "\r",
      "[Stage 31:>                                                         (0 + 1) / 1]\r"
     ]
    },
    {
     "name": "stdout",
     "output_type": "stream",
     "text": [
      "[(146, [['we', 'still', 'have', 'a', 'lot', 'of', 'work', 'to', 'do', 'in', 'this', 'area', 'as', 'recent', 'events', 'have', 'proved'], ['som', 'händelserna', 'under', 'den', 'senaste', 'tiden', 'visat', 'har', 'vi', 'fortfarande', 'mycket', 'arbete', 'kvar', 'på', 'detta', 'område']])]\n"
     ]
    },
    {
     "name": "stderr",
     "output_type": "stream",
     "text": [
      "\r",
      "                                                                                \r"
     ]
    }
   ],
   "source": [
    "print(en_sv4.take(1))"
   ]
  },
  {
   "cell_type": "markdown",
   "id": "5937727e",
   "metadata": {},
   "source": [
    "##### Step 5: Filter to leave only pairs of sentences with a small number of words per sentence, this should give a more reliable translation (you can experiment)."
   ]
  },
  {
   "cell_type": "code",
   "execution_count": 26,
   "id": "e42ac6d1",
   "metadata": {},
   "outputs": [],
   "source": [
    "limit = 10\n",
    "en_sv5 = en_sv4.filter(lambda x: (len(x[1][0]) <= limit) or (len(x[1][1]) <= limit))"
   ]
  },
  {
   "cell_type": "code",
   "execution_count": 27,
   "id": "642b529b",
   "metadata": {},
   "outputs": [
    {
     "name": "stderr",
     "output_type": "stream",
     "text": [
      "\r",
      "[Stage 33:>                                                         (0 + 1) / 1]\r"
     ]
    },
    {
     "name": "stdout",
     "output_type": "stream",
     "text": [
      "[(1492, [['we', 'need', 'a', 'public', 'debate', 'on', 'this'], ['vi', 'behöver', 'en', 'offentlig', 'debatt', 'om', 'detta']])]\n"
     ]
    },
    {
     "name": "stderr",
     "output_type": "stream",
     "text": [
      "\r",
      "                                                                                \r"
     ]
    }
   ],
   "source": [
    "print(en_sv5.take(1))"
   ]
  },
  {
   "cell_type": "markdown",
   "id": "6e54bcc2",
   "metadata": {},
   "source": [
    "##### Step 6: Filter to leave only pairs of sentences with the same number of words in each sentence."
   ]
  },
  {
   "cell_type": "code",
   "execution_count": 28,
   "id": "d366c866",
   "metadata": {},
   "outputs": [],
   "source": [
    "en_sv6 = en_sv5.filter(lambda x: len(x[1][0]) == len(x[1][1]))"
   ]
  },
  {
   "cell_type": "code",
   "execution_count": 29,
   "id": "503da881",
   "metadata": {},
   "outputs": [
    {
     "name": "stderr",
     "output_type": "stream",
     "text": [
      "\r",
      "[Stage 35:>                                                         (0 + 1) / 1]\r"
     ]
    },
    {
     "name": "stdout",
     "output_type": "stream",
     "text": [
      "[(40574, [['this', 'statement', 'is', 'thoroughly', 'valid', 'for', 'lesserused', 'languages'], ['detta', 'gäller', 'verkligen', 'för', 'de', 'mindre', 'talade', 'språken']])]\n"
     ]
    },
    {
     "name": "stderr",
     "output_type": "stream",
     "text": [
      "\r",
      "                                                                                \r"
     ]
    }
   ],
   "source": [
    "print(en_sv6.take(1))"
   ]
  },
  {
   "cell_type": "markdown",
   "id": "69fd0779",
   "metadata": {},
   "source": [
    "##### Step 7: For each sentence pair, map so that you pair each (in order) word in the two sentences. We no longer need the line numbers. (hint: use python’s built in zip() function)"
   ]
  },
  {
   "cell_type": "code",
   "execution_count": 30,
   "id": "899a4e29",
   "metadata": {},
   "outputs": [],
   "source": [
    "en_sv7 = en_sv6.map(lambda x: list(zip(*x[1]))).flatMap(lambda l: l)"
   ]
  },
  {
   "cell_type": "code",
   "execution_count": 31,
   "id": "74ec2acf",
   "metadata": {},
   "outputs": [
    {
     "name": "stderr",
     "output_type": "stream",
     "text": [
      "[Stage 37:>                                                         (0 + 1) / 1]\r"
     ]
    },
    {
     "name": "stdout",
     "output_type": "stream",
     "text": [
      "[('the', 'den'), ('common', 'gemensamma'), ('position', 'ståndpunkten'), ('is', 'är'), ('a', 'en'), ('reasonable', 'rimlig'), ('compromise', 'kompromiss'), ('it', 'det'), ('started', 'hela'), ('back', 'inleddes'), ('in', 'faktiskt'), ('dublin', 'med'), ('in', 'dublinmötet'), ('1990', '1990'), ('poverty', 'fattigdomen'), ('in', 'i'), ('mexico', 'mexiko'), ('has', 'har'), ('risen', 'snarare'), ('rather', 'vuxit')]\n"
     ]
    },
    {
     "name": "stderr",
     "output_type": "stream",
     "text": [
      "\r",
      "                                                                                \r"
     ]
    }
   ],
   "source": [
    "print(en_sv7.take(20))"
   ]
  },
  {
   "cell_type": "markdown",
   "id": "e46fdbfe",
   "metadata": {},
   "source": [
    "##### Step 8: Use reduce to count the number of occurrences of the word-translation-pairs."
   ]
  },
  {
   "cell_type": "code",
   "execution_count": 32,
   "id": "80079d8d",
   "metadata": {},
   "outputs": [
    {
     "name": "stderr",
     "output_type": "stream",
     "text": [
      "                                                                                \r"
     ]
    }
   ],
   "source": [
    "en_sv8 = en_sv7.map(lambda x: (x,1))\n",
    "en_sv8 = en_sv8.reduceByKey(lambda a, b : a + b)\n",
    "en_sv8 = en_sv8.map(lambda x: (x[1], x[0])).sortByKey(False)"
   ]
  },
  {
   "cell_type": "markdown",
   "id": "a198daf4",
   "metadata": {},
   "source": [
    "##### Step 9: Print some of the most frequently occurring pairs of words"
   ]
  },
  {
   "cell_type": "code",
   "execution_count": 33,
   "id": "7ff067fa",
   "metadata": {},
   "outputs": [
    {
     "name": "stdout",
     "output_type": "stream",
     "text": [
      "[(11343, ('is', 'är')), (6612, ('we', 'vi')), (6143, ('i', 'jag')), (5769, ('', '')), (4498, ('this', 'detta')), (3941, ('and', 'och')), (3707, ('it', 'det')), (3500, ('a', 'en')), (3469, ('that', 'det')), (3314, ('applause', 'applåder')), (3273, ('not', 'inte')), (2972, ('closed', 'avslutad')), (2531, ('in', 'i')), (2350, ('have', 'har')), (2246, ('a', 'ett')), (2218, ('will', 'att')), (2113, ('are', 'är')), (2033, ('this', 'det')), (2009, ('the', 'omröstningen')), (1970, ('for', 'för')), (1955, ('vote', 'kommer')), (1948, ('there', 'det')), (1896, ('the', 'den')), (1859, ('to', 'att')), (1852, ('place', 'rum')), (1821, ('take', 'äga')), (1721, ('\\xa0\\xa0', '\\xa0\\xa0')), (1686, ('question', 'fråga')), (1644, ('of', 'av')), (1564, ('the', 'det')), (1552, ('must', 'måste')), (1517, ('very', 'mycket')), (1449, ('that', 'detta')), (1373, ('the', 'jag')), (1334, ('has', 'har')), (1331, ('is', 'debatten')), (1327, ('no', 'nr')), (1320, ('debate', 'förklarar')), (1317, ('that', 'att')), (1273, ('minutes', 'protokollet')), (1272, ('the', 'debatten')), (1253, ('see', 'se')), (1253, ('this', 'denna')), (1241, ('by', 'från')), (1241, ('is', 'härmed')), (1238, ('tomorrow', 'i')), (1215, ('debate', 'är')), (1200, ('what', 'vad')), (1197, ('at', 'morgon')), (1081, ('mr', 'herr'))]\n"
     ]
    }
   ],
   "source": [
    "print(en_sv8.take(50))"
   ]
  },
  {
   "cell_type": "code",
   "execution_count": 34,
   "id": "a7d29d8d",
   "metadata": {},
   "outputs": [
    {
     "name": "stdout",
     "output_type": "stream",
     "text": [
      "Spark closed!\n"
     ]
    }
   ],
   "source": [
    "sc.stop()\n",
    "print(\"Spark closed!\")"
   ]
  },
  {
   "cell_type": "code",
   "execution_count": null,
   "id": "3e927d36",
   "metadata": {},
   "outputs": [],
   "source": []
  }
 ],
 "metadata": {
  "kernelspec": {
   "display_name": "Python 3 (ipykernel)",
   "language": "python",
   "name": "python3"
  },
  "language_info": {
   "codemirror_mode": {
    "name": "ipython",
    "version": 3
   },
   "file_extension": ".py",
   "mimetype": "text/x-python",
   "name": "python",
   "nbconvert_exporter": "python",
   "pygments_lexer": "ipython3",
   "version": "3.8.2"
  },
  "varInspector": {
   "cols": {
    "lenName": 16,
    "lenType": 16,
    "lenVar": 40
   },
   "kernels_config": {
    "python": {
     "delete_cmd_postfix": "",
     "delete_cmd_prefix": "del ",
     "library": "var_list.py",
     "varRefreshCmd": "print(var_dic_list())"
    },
    "r": {
     "delete_cmd_postfix": ") ",
     "delete_cmd_prefix": "rm(",
     "library": "var_list.r",
     "varRefreshCmd": "cat(var_dic_list()) "
    }
   },
   "types_to_exclude": [
    "module",
    "function",
    "builtin_function_or_method",
    "instance",
    "_Feature"
   ],
   "window_display": false
  }
 },
 "nbformat": 4,
 "nbformat_minor": 5
}
