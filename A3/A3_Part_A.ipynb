{
 "cells": [
  {
   "cell_type": "markdown",
   "id": "d9328000",
   "metadata": {},
   "source": [
    "### Assignment 3, Naeim Rashidfarokhi, Data Engineering I 2022"
   ]
  },
  {
   "cell_type": "markdown",
   "id": "26ae7251",
   "metadata": {},
   "source": [
    "#### Part A - Working with the RDD API"
   ]
  },
  {
   "cell_type": "code",
   "execution_count": 11,
   "id": "4c47a1ae",
   "metadata": {},
   "outputs": [],
   "source": [
    "# Importing needed libraries to work with Spark through Python API\n",
    "from pyspark.sql import SparkSession\n",
    "from pyspark import SparkConf"
   ]
  },
  {
   "cell_type": "code",
   "execution_count": 12,
   "id": "77517a20",
   "metadata": {},
   "outputs": [],
   "source": [
    "# This boolean is to run the code easier both locally or on server\n",
    "server_mode = True"
   ]
  },
  {
   "cell_type": "code",
   "execution_count": 13,
   "id": "a3e528a7",
   "metadata": {},
   "outputs": [],
   "source": [
    "if server_mode:\n",
    "    #New API\n",
    "    spark_session = SparkSession\\\n",
    "            .builder\\\n",
    "            .master(\"spark://192.168.2.119:7077\") \\\n",
    "            .appName(\"Naeim_Rashidfarokhi_A3_A\")\\\n",
    "            .config(\"spark.dynamicAllocation.enabled\", True)\\\n",
    "            .config(\"spark.dynamicAllocation.shuffleTracking.enabled\",True)\\\n",
    "            .config(\"spark.shuffle.service.enabled\", False)\\\n",
    "            .config(\"spark.dynamicAllocation.executorIdleTimeout\",\"300s\")\\\n",
    "            .config(\"spark.executor.cores\",4)\\\n",
    "            .config(\"spark.driver.port\",9998)\\\n",
    "            .config(\"spark.blockManager.port\",10005)\\\n",
    "            .getOrCreate()\n",
    "\n",
    "    # Old API (RDD)\n",
    "    spark_context = spark_session.sparkContext\n",
    "    # spark_context.setLogLevel(\"INFO\")\n",
    "    spark_context.setLogLevel(\"ERROR\")\n",
    "\n",
    "else:\n",
    "    # local version, deactivate later!\n",
    "    spark_session = SparkSession.builder.appName('A3_A').getOrCreate()"
   ]
  },
  {
   "cell_type": "code",
   "execution_count": 14,
   "id": "1c76d2eb",
   "metadata": {},
   "outputs": [
    {
     "data": {
      "text/html": [
       "\n",
       "            <div>\n",
       "                <p><b>SparkSession - in-memory</b></p>\n",
       "                \n",
       "        <div>\n",
       "            <p><b>SparkContext</b></p>\n",
       "\n",
       "            <p><a href=\"http://host-192-168-2-216-de1:4040\">Spark UI</a></p>\n",
       "\n",
       "            <dl>\n",
       "              <dt>Version</dt>\n",
       "                <dd><code>v3.2.0</code></dd>\n",
       "              <dt>Master</dt>\n",
       "                <dd><code>spark://192.168.2.119:7077</code></dd>\n",
       "              <dt>AppName</dt>\n",
       "                <dd><code>Naeim_Rashidfarokhi_A3_A</code></dd>\n",
       "            </dl>\n",
       "        </div>\n",
       "        \n",
       "            </div>\n",
       "        "
      ],
      "text/plain": [
       "<pyspark.sql.session.SparkSession at 0x7f408b6aab50>"
      ]
     },
     "execution_count": 14,
     "metadata": {},
     "output_type": "execute_result"
    }
   ],
   "source": [
    "spark_session"
   ]
  },
  {
   "cell_type": "code",
   "execution_count": 15,
   "id": "8c030d69",
   "metadata": {},
   "outputs": [],
   "source": [
    "# To access RDD, we need an object of sparkContext (work with the old API)\n",
    "sc = spark_session.sparkContext"
   ]
  },
  {
   "cell_type": "markdown",
   "id": "3343ec09",
   "metadata": {},
   "source": [
    "## Question A.1\n",
    "#### A.1.1 & A.1.2 Read the English and Swedish transcripts with Spark, and count the number of lines."
   ]
  },
  {
   "cell_type": "code",
   "execution_count": 16,
   "id": "0337ff2e",
   "metadata": {},
   "outputs": [
    {
     "data": {
      "text/plain": [
       "(pyspark.rdd.RDD, pyspark.rdd.RDD)"
      ]
     },
     "execution_count": 16,
     "metadata": {},
     "output_type": "execute_result"
    }
   ],
   "source": [
    "if server_mode:\n",
    "    rdd_EN = sc.textFile('hdfs://192.168.2.119:9000/europarl/europarl-v7.sv-en.en')\n",
    "    rdd_SW = sc.textFile('hdfs://192.168.2.119:9000/europarl/europarl-v7.sv-en.sv')  \n",
    "else:\n",
    "    # to read data with the old API\n",
    "    rdd_EN = sc.textFile(\"/home/naeim/Desktop/DE1/europarl-v7.sv-en.en\")\n",
    "    rdd_SW = sc.textFile(\"/home/naeim/Desktop/DE1/europarl-v7.sv-en.sv\")\n",
    "\n",
    "type(rdd_EN), type(rdd_SW)"
   ]
  },
  {
   "cell_type": "code",
   "execution_count": 17,
   "id": "117e9289",
   "metadata": {},
   "outputs": [
    {
     "name": "stderr",
     "output_type": "stream",
     "text": [
      "                                                                                \r"
     ]
    },
    {
     "data": {
      "text/plain": [
       "['Resumption of the session',\n",
       " 'I declare resumed the session of the European Parliament adjourned on Friday 17 December 1999, and I would like once again to wish you a happy new year in the hope that you enjoyed a pleasant festive period.']"
      ]
     },
     "execution_count": 17,
     "metadata": {},
     "output_type": "execute_result"
    }
   ],
   "source": [
    "# to get some insight about loaded text\n",
    "rdd_EN.take(2)"
   ]
  },
  {
   "cell_type": "code",
   "execution_count": 18,
   "id": "f6125aa6-de58-474a-9a67-58c1d9dffa26",
   "metadata": {},
   "outputs": [
    {
     "data": {
      "text/plain": [
       "['Återupptagande av sessionen',\n",
       " 'Jag förklarar Europaparlamentets session återupptagen efter avbrottet den 17 december. Jag vill på nytt önska er ett gott nytt år och jag hoppas att ni haft en trevlig semester.']"
      ]
     },
     "execution_count": 18,
     "metadata": {},
     "output_type": "execute_result"
    }
   ],
   "source": [
    "rdd_SW.take(2)"
   ]
  },
  {
   "cell_type": "code",
   "execution_count": 19,
   "id": "b5261cb5",
   "metadata": {},
   "outputs": [
    {
     "name": "stderr",
     "output_type": "stream",
     "text": [
      "[Stage 8:===================>                                       (1 + 2) / 3]\r"
     ]
    },
    {
     "name": "stdout",
     "output_type": "stream",
     "text": [
      "The number of rows in Enlgish file:1862234\n",
      "The number of rows in Swedish file:1862234\n"
     ]
    },
    {
     "name": "stderr",
     "output_type": "stream",
     "text": [
      "                                                                                \r"
     ]
    }
   ],
   "source": [
    "nbr_lines_EN = rdd_EN.count()\n",
    "nbr_lines_SW = rdd_SW.count()\n",
    "print(f\"The number of rows in Enlgish file:{nbr_lines_EN}\")\n",
    "print(f\"The number of rows in Swedish file:{nbr_lines_SW}\")"
   ]
  },
  {
   "cell_type": "markdown",
   "id": "51c574af",
   "metadata": {},
   "source": [
    "#### A.1.3 Verify that the line counts are the same for the two languages."
   ]
  },
  {
   "cell_type": "code",
   "execution_count": 20,
   "id": "44b69a5f",
   "metadata": {},
   "outputs": [
    {
     "name": "stdout",
     "output_type": "stream",
     "text": [
      "Similar line counts in both documents!\n"
     ]
    }
   ],
   "source": [
    "def check_line_counts(a, b):\n",
    "    if a == b:\n",
    "        print(\"Similar line counts in both documents!\")\n",
    "    else:\n",
    "        print(\"Different line counts in both documents!\")\n",
    "\n",
    "check_line_counts(nbr_lines_EN, nbr_lines_SW)"
   ]
  },
  {
   "cell_type": "markdown",
   "id": "0024377c",
   "metadata": {},
   "source": [
    "#### A.1.4 Count the number of partitions."
   ]
  },
  {
   "cell_type": "code",
   "execution_count": 21,
   "id": "d46c6cc7",
   "metadata": {},
   "outputs": [
    {
     "data": {
      "text/plain": [
       "(2, 3)"
      ]
     },
     "execution_count": 21,
     "metadata": {},
     "output_type": "execute_result"
    }
   ],
   "source": [
    "rdd_EN.getNumPartitions(), rdd_SW.getNumPartitions()"
   ]
  },
  {
   "cell_type": "markdown",
   "id": "f855ae9d",
   "metadata": {},
   "source": [
    "## Question A.2\n",
    "#### A.2.1 Pre-process the text from both RDDs by doing the following"
   ]
  },
  {
   "cell_type": "code",
   "execution_count": 22,
   "id": "98e992ae",
   "metadata": {},
   "outputs": [],
   "source": [
    "import re # to keep only alpha-numeric characters\n",
    "def lower_the_tokens(lines):\n",
    "    words = lines.map(lambda line: \\\n",
    "        re.sub(\"[^åäöÅÄÖa-zA-Z0-9\\s]+\",\"\", line).lower().split(' '))\n",
    "    return words"
   ]
  },
  {
   "cell_type": "code",
   "execution_count": 23,
   "id": "27a6e940",
   "metadata": {},
   "outputs": [
    {
     "data": {
      "text/plain": [
       "(pyspark.rdd.PipelinedRDD, pyspark.rdd.PipelinedRDD)"
      ]
     },
     "execution_count": 23,
     "metadata": {},
     "output_type": "execute_result"
    }
   ],
   "source": [
    "rdd_EN_pre = lower_the_tokens(rdd_EN)\n",
    "rdd_SW_pre = lower_the_tokens(rdd_SW)\n",
    "type(rdd_EN_pre), type(rdd_SW_pre)"
   ]
  },
  {
   "cell_type": "markdown",
   "id": "b9783298",
   "metadata": {},
   "source": [
    "#### A.2.2 Inspect 10 entries from each of your RDDs to verify your pre-processing."
   ]
  },
  {
   "cell_type": "code",
   "execution_count": 24,
   "id": "cbe02dee",
   "metadata": {},
   "outputs": [
    {
     "name": "stdout",
     "output_type": "stream",
     "text": [
      "[['resumption', 'of', 'the', 'session'], ['i', 'declare', 'resumed', 'the', 'session', 'of', 'the', 'european', 'parliament', 'adjourned', 'on', 'friday', '17', 'december', '1999', 'and', 'i', 'would', 'like', 'once', 'again', 'to', 'wish', 'you', 'a', 'happy', 'new', 'year', 'in', 'the', 'hope', 'that', 'you', 'enjoyed', 'a', 'pleasant', 'festive', 'period'], ['although', 'as', 'you', 'will', 'have', 'seen', 'the', 'dreaded', 'millennium', 'bug', 'failed', 'to', 'materialise', 'still', 'the', 'people', 'in', 'a', 'number', 'of', 'countries', 'suffered', 'a', 'series', 'of', 'natural', 'disasters', 'that', 'truly', 'were', 'dreadful'], ['you', 'have', 'requested', 'a', 'debate', 'on', 'this', 'subject', 'in', 'the', 'course', 'of', 'the', 'next', 'few', 'days', 'during', 'this', 'partsession'], ['in', 'the', 'meantime', 'i', 'should', 'like', 'to', 'observe', 'a', 'minute', 's', 'silence', 'as', 'a', 'number', 'of', 'members', 'have', 'requested', 'on', 'behalf', 'of', 'all', 'the', 'victims', 'concerned', 'particularly', 'those', 'of', 'the', 'terrible', 'storms', 'in', 'the', 'various', 'countries', 'of', 'the', 'european', 'union'], ['please', 'rise', 'then', 'for', 'this', 'minute', 's', 'silence'], ['the', 'house', 'rose', 'and', 'observed', 'a', 'minute', 's', 'silence'], ['madam', 'president', 'on', 'a', 'point', 'of', 'order'], ['you', 'will', 'be', 'aware', 'from', 'the', 'press', 'and', 'television', 'that', 'there', 'have', 'been', 'a', 'number', 'of', 'bomb', 'explosions', 'and', 'killings', 'in', 'sri', 'lanka'], ['one', 'of', 'the', 'people', 'assassinated', 'very', 'recently', 'in', 'sri', 'lanka', 'was', 'mr', 'kumar', 'ponnambalam', 'who', 'had', 'visited', 'the', 'european', 'parliament', 'just', 'a', 'few', 'months', 'ago']] [['återupptagande', 'av', 'sessionen'], ['jag', 'förklarar', 'europaparlamentets', 'session', 'återupptagen', 'efter', 'avbrottet', 'den', '17', 'december', 'jag', 'vill', 'på', 'nytt', 'önska', 'er', 'ett', 'gott', 'nytt', 'år', 'och', 'jag', 'hoppas', 'att', 'ni', 'haft', 'en', 'trevlig', 'semester'], ['som', 'ni', 'kunnat', 'konstatera', 'ägde', 'den', 'stora', 'år', '2000buggen', 'aldrig', 'rum', 'däremot', 'har', 'invånarna', 'i', 'ett', 'antal', 'av', 'våra', 'medlemsländer', 'drabbats', 'av', 'naturkatastrofer', 'som', 'verkligen', 'varit', 'förskräckliga'], ['ni', 'har', 'begärt', 'en', 'debatt', 'i', 'ämnet', 'under', 'sammanträdesperiodens', 'kommande', 'dagar'], ['till', 'dess', 'vill', 'jag', 'att', 'vi', 'som', 'ett', 'antal', 'kolleger', 'begärt', 'håller', 'en', 'tyst', 'minut', 'för', 'offren', 'för', 'bla', 'stormarna', 'i', 'de', 'länder', 'i', 'europeiska', 'unionen', 'som', 'drabbats'], ['jag', 'ber', 'er', 'resa', 'er', 'för', 'en', 'tyst', 'minut'], ['parlamentet', 'höll', 'en', 'tyst', 'minut'], ['fru', 'talman', 'det', 'gäller', 'en', 'ordningsfråga'], ['ni', 'känner', 'till', 'från', 'media', 'att', 'det', 'skett', 'en', 'rad', 'bombexplosioner', 'och', 'mord', 'i', 'sri', 'lanka'], ['en', 'av', 'de', 'personer', 'som', 'mycket', 'nyligen', 'mördades', 'i', 'sri', 'lanka', 'var', 'kumar', 'ponnambalam', 'som', 'besökte', 'europaparlamentet', 'för', 'bara', 'några', 'månader', 'sedan']]\n"
     ]
    }
   ],
   "source": [
    "print(rdd_EN_pre.take(10), rdd_SW_pre.take(10))"
   ]
  },
  {
   "cell_type": "markdown",
   "id": "af0184db",
   "metadata": {},
   "source": [
    "#### A.2.3 Verify that the line counts still match after the pre-processing."
   ]
  },
  {
   "cell_type": "code",
   "execution_count": 25,
   "id": "46457627",
   "metadata": {},
   "outputs": [
    {
     "name": "stderr",
     "output_type": "stream",
     "text": [
      "[Stage 12:===================>                                      (1 + 2) / 3]\r"
     ]
    },
    {
     "name": "stdout",
     "output_type": "stream",
     "text": [
      "The number of rows in Enlgish file:1862234\n",
      "The number of rows in Swedish file:1862234\n",
      "Similar line counts in both documents!\n"
     ]
    },
    {
     "name": "stderr",
     "output_type": "stream",
     "text": [
      "                                                                                \r"
     ]
    }
   ],
   "source": [
    "nbr_lines_EN_pre = rdd_EN_pre.count()\n",
    "nbr_lines_SW_pre = rdd_SW_pre.count()\n",
    "print(f\"The number of rows in Enlgish file:{nbr_lines_EN_pre}\")\n",
    "print(f\"The number of rows in Swedish file:{nbr_lines_SW_pre}\")\n",
    "check_line_counts(nbr_lines_EN_pre, nbr_lines_SW_pre)"
   ]
  },
  {
   "cell_type": "markdown",
   "id": "bddc6fea",
   "metadata": {},
   "source": [
    "## Question 1.A.3\n",
    "#### A.3.1 Use Spark to compute the 10 most frequently according words in the English language corpus. Repeat for the other language."
   ]
  },
  {
   "cell_type": "code",
   "execution_count": 26,
   "id": "15a35f16",
   "metadata": {},
   "outputs": [],
   "source": [
    "def get_frequent_words(lines, counts=True, nbr=10):\n",
    "    \n",
    "    # mapping the words in pairs\n",
    "    words_flatten =  lines.flatMap(lambda word: word)\n",
    "    words_pairs =  words_flatten.map(lambda x: (x,1))\n",
    "    \n",
    "    # reducing pairs\n",
    "    if counts:\n",
    "        #return RDD of word counts\n",
    "        word_counts = words_pairs.reduceByKey(lambda a, b : a + b)\n",
    "        # find the highest frequencies\n",
    "        word_counts = word_counts.map(lambda x: (x[1], x[0])).sortByKey(False)\n",
    "        print(word_counts.take(nbr))\n",
    "        \n",
    "    else: \n",
    "        # countByKey() returns dictionary\n",
    "        word_counts = words_pairs.countByKey()\n",
    "        word_counts = sorted(word_counts, key = word_counts.get, reverse = True)\n",
    "        print(word_counts[:nbr])\n",
    "        \n",
    "    return word_counts"
   ]
  },
  {
   "cell_type": "code",
   "execution_count": 27,
   "id": "ca24cb94",
   "metadata": {},
   "outputs": [
    {
     "name": "stderr",
     "output_type": "stream",
     "text": [
      "                                                                                \r"
     ]
    },
    {
     "name": "stdout",
     "output_type": "stream",
     "text": [
      "[(3505085, 'the'), (1662002, 'of'), (1543739, 'to'), (1318342, 'and'), (1088891, 'in'), (839072, 'that'), (774941, 'is'), (774540, 'a'), (538191, 'for'), (526480, 'we')]\n"
     ]
    },
    {
     "name": "stderr",
     "output_type": "stream",
     "text": [
      "                                                                                \r"
     ]
    },
    {
     "name": "stdout",
     "output_type": "stream",
     "text": [
      "[(1709936, 'att'), (1350369, 'och'), (1054249, 'i'), (952985, 'det'), (917580, 'som'), (915079, 'för'), (740724, 'av'), (701840, 'är'), (636827, 'en'), (546068, 'vi')]\n"
     ]
    }
   ],
   "source": [
    "rdd_EN_pairs =  get_frequent_words(rdd_EN_pre, counts=True, nbr=10)\n",
    "rdd_SW_pairs =  get_frequent_words(rdd_SW_pre, counts=True, nbr=10)"
   ]
  },
  {
   "cell_type": "markdown",
   "id": "e6b94d0a",
   "metadata": {},
   "source": [
    "#### A.3.2 Verify that your results are reasonable."
   ]
  },
  {
   "cell_type": "code",
   "execution_count": 28,
   "id": "53a57410",
   "metadata": {},
   "outputs": [
    {
     "name": "stderr",
     "output_type": "stream",
     "text": [
      "                                                                                \r"
     ]
    },
    {
     "name": "stdout",
     "output_type": "stream",
     "text": [
      "['the', 'of', 'to', 'and', 'in', 'that', 'is', 'a', 'for', 'we']\n"
     ]
    },
    {
     "name": "stderr",
     "output_type": "stream",
     "text": [
      "                                                                                \r"
     ]
    },
    {
     "name": "stdout",
     "output_type": "stream",
     "text": [
      "['att', 'och', 'i', 'det', 'som', 'för', 'av', 'är', 'en', 'vi']\n"
     ]
    }
   ],
   "source": [
    "# looking at the results above, the conuts do not exatly match word by word\n",
    "# but comparing the most 10 frequent words in both lists, they are reasonable!\n",
    "words_list_EN =  get_frequent_words(rdd_EN_pre, counts=False, nbr=10)\n",
    "words_list_SW =  get_frequent_words(rdd_SW_pre, counts=False, nbr=10)"
   ]
  },
  {
   "cell_type": "code",
   "execution_count": 29,
   "id": "3172250b",
   "metadata": {},
   "outputs": [
    {
     "name": "stdout",
     "output_type": "stream",
     "text": [
      "The total number of unique words in English corpus:127332\n",
      "The total number of unique words in Swedish corpus:343473\n"
     ]
    }
   ],
   "source": [
    "print(f\"The total number of unique words in English corpus:{len(words_list_EN)}\")\n",
    "print(f\"The total number of unique words in Swedish corpus:{len(words_list_SW)}\")"
   ]
  },
  {
   "cell_type": "markdown",
   "id": "af8ebe39",
   "metadata": {},
   "source": [
    "## Question A.4\n",
    "#### A.4.1 Use this parallel corpus to mine some translations in the form of word pairs, for the two languages. Do this by pairing words found on short lines with the same number of words respectively. We (incorrectly) assume the words stay in the same order when translated."
   ]
  },
  {
   "cell_type": "markdown",
   "id": "73b7be2d",
   "metadata": {},
   "source": [
    "##### Step1: Key the lines by their line number (hint: ZipWithIndex())"
   ]
  },
  {
   "cell_type": "code",
   "execution_count": 30,
   "id": "64e21197",
   "metadata": {},
   "outputs": [],
   "source": [
    "en1 = rdd_EN_pre.coalesce(1).zipWithIndex()\n",
    "sv1 = rdd_SW_pre.coalesce(1).zipWithIndex()\n",
    "# en1 = rdd_EN_pre.repartition(9).zipWithIndex()\n",
    "# sv1 = rdd_SW_pre.repartition(9).zipWithIndex()"
   ]
  },
  {
   "cell_type": "code",
   "execution_count": 31,
   "id": "a56ea777",
   "metadata": {},
   "outputs": [
    {
     "name": "stdout",
     "output_type": "stream",
     "text": [
      "[(['resumption', 'of', 'the', 'session'], 0), (['i', 'declare', 'resumed', 'the', 'session', 'of', 'the', 'european', 'parliament', 'adjourned', 'on', 'friday', '17', 'december', '1999', 'and', 'i', 'would', 'like', 'once', 'again', 'to', 'wish', 'you', 'a', 'happy', 'new', 'year', 'in', 'the', 'hope', 'that', 'you', 'enjoyed', 'a', 'pleasant', 'festive', 'period'], 1), (['although', 'as', 'you', 'will', 'have', 'seen', 'the', 'dreaded', 'millennium', 'bug', 'failed', 'to', 'materialise', 'still', 'the', 'people', 'in', 'a', 'number', 'of', 'countries', 'suffered', 'a', 'series', 'of', 'natural', 'disasters', 'that', 'truly', 'were', 'dreadful'], 2)] [(['återupptagande', 'av', 'sessionen'], 0), (['jag', 'förklarar', 'europaparlamentets', 'session', 'återupptagen', 'efter', 'avbrottet', 'den', '17', 'december', 'jag', 'vill', 'på', 'nytt', 'önska', 'er', 'ett', 'gott', 'nytt', 'år', 'och', 'jag', 'hoppas', 'att', 'ni', 'haft', 'en', 'trevlig', 'semester'], 1), (['som', 'ni', 'kunnat', 'konstatera', 'ägde', 'den', 'stora', 'år', '2000buggen', 'aldrig', 'rum', 'däremot', 'har', 'invånarna', 'i', 'ett', 'antal', 'av', 'våra', 'medlemsländer', 'drabbats', 'av', 'naturkatastrofer', 'som', 'verkligen', 'varit', 'förskräckliga'], 2)]\n"
     ]
    }
   ],
   "source": [
    "print(en1.take(3), sv1.take(3))"
   ]
  },
  {
   "cell_type": "markdown",
   "id": "27dfad4f",
   "metadata": {},
   "source": [
    "##### Step2: Swap the key and value - so that the line number is the key"
   ]
  },
  {
   "cell_type": "code",
   "execution_count": 32,
   "id": "55cc10b0",
   "metadata": {},
   "outputs": [],
   "source": [
    "en2 = en1.map(lambda x: (x[1], x[0]))\n",
    "sv2 = sv1.map(lambda x: (x[1], x[0]))"
   ]
  },
  {
   "cell_type": "code",
   "execution_count": 33,
   "id": "5893882c",
   "metadata": {},
   "outputs": [
    {
     "name": "stdout",
     "output_type": "stream",
     "text": [
      "[(0, ['resumption', 'of', 'the', 'session']), (1, ['i', 'declare', 'resumed', 'the', 'session', 'of', 'the', 'european', 'parliament', 'adjourned', 'on', 'friday', '17', 'december', '1999', 'and', 'i', 'would', 'like', 'once', 'again', 'to', 'wish', 'you', 'a', 'happy', 'new', 'year', 'in', 'the', 'hope', 'that', 'you', 'enjoyed', 'a', 'pleasant', 'festive', 'period']), (2, ['although', 'as', 'you', 'will', 'have', 'seen', 'the', 'dreaded', 'millennium', 'bug', 'failed', 'to', 'materialise', 'still', 'the', 'people', 'in', 'a', 'number', 'of', 'countries', 'suffered', 'a', 'series', 'of', 'natural', 'disasters', 'that', 'truly', 'were', 'dreadful'])] [(0, ['återupptagande', 'av', 'sessionen']), (1, ['jag', 'förklarar', 'europaparlamentets', 'session', 'återupptagen', 'efter', 'avbrottet', 'den', '17', 'december', 'jag', 'vill', 'på', 'nytt', 'önska', 'er', 'ett', 'gott', 'nytt', 'år', 'och', 'jag', 'hoppas', 'att', 'ni', 'haft', 'en', 'trevlig', 'semester']), (2, ['som', 'ni', 'kunnat', 'konstatera', 'ägde', 'den', 'stora', 'år', '2000buggen', 'aldrig', 'rum', 'däremot', 'har', 'invånarna', 'i', 'ett', 'antal', 'av', 'våra', 'medlemsländer', 'drabbats', 'av', 'naturkatastrofer', 'som', 'verkligen', 'varit', 'förskräckliga'])]\n"
     ]
    }
   ],
   "source": [
    "print(en2.take(3), sv2.take(3))"
   ]
  },
  {
   "cell_type": "markdown",
   "id": "af0c3809",
   "metadata": {},
   "source": [
    "##### Step3: Join the two RDDs together according to the line number key, so you have pairs of matching lines"
   ]
  },
  {
   "cell_type": "code",
   "execution_count": 34,
   "id": "1b8bde0d",
   "metadata": {},
   "outputs": [],
   "source": [
    "# read the difference of join and union here:\n",
    "# https://stackoverflow.com/questions/34249247/difference-between-join-and-union-followed-by-groupbykey-in-spark\n",
    "en_sv3 = en2.union(sv2)\n",
    "en_sv3 = en_sv3.groupByKey().mapValues(list)"
   ]
  },
  {
   "cell_type": "code",
   "execution_count": 35,
   "id": "7dc9339e",
   "metadata": {},
   "outputs": [
    {
     "name": "stderr",
     "output_type": "stream",
     "text": [
      "[Stage 34:>                                                         (0 + 1) / 1]\r"
     ]
    },
    {
     "name": "stdout",
     "output_type": "stream",
     "text": [
      "[(996, [['i', 'would', 'emphasise', 'that', 'this', 'is', 'going', 'to', 'be', 'extremely', 'important', 'for', 'our', 'future', 'for', 'europe', 's', 'economy', 'and', 'above', 'all', 'for', 'the', 'protection', 'of', 'our', 'wealth', 'and', 'technological', 'development', 'in', 'europe', 'in', 'general'], ['jag', 'hävdar', 'bestämt', 'att', 'detta', 'kommer', 'att', 'vara', 'av', 'yttersta', 'vikt', 'för', 'vår', 'framtid', 'för', 'den', 'europeiska', 'ekonomin', 'och', 'framför', 'allt', 'för', 'att', 'skydda', 'vårt', 'välstånd', 'och', 'den', 'allmänna', 'tekniska', 'utvecklingen', 'i', 'europa']]), (2160, [['i', 'have', 'referred', 'to', 'a', 'series', 'of', 'issues', 'which', 'i', 'will', 'lay', 'out', 'in', 'more', 'detail', 'if', 'you', 'wish', 'in', 'an', 'appearance', 'before', 'a', 'special', 'committee', 'on', 'this', 'matter', 'or', 'when', 'i', 'present', 'the', 'actual', 'initiatives', 'in', 'the', 'coming', 'months'], ['mina', 'damer', 'och', 'herrar', 'jag', 'har', 'tagit', 'upp', 'en', 'rad', 'frågor', 'som', 'vi', 'kan', 'gå', 'in', 'på', 'mer', 'i', 'detalj', 'om', 'ni', 'vill', 'i', 'samband', 'med', 'att', 'jag', 'infinner', 'mig', 'i', 'det', 'utskott', 'som', 'berörs', 'av', 'frågan', 'eller', 'annars', 'i', 'samband', 'med', 'att', 'jag', 'lägger', 'fram', 'konkreta', 'initiativ', 'de', 'närmaste', 'månaderna']]), (2766, [['i', 'would', 'point', 'out', 'that', 'doing', 'nothing', 'will', 'be', 'the', 'death', 'of', 'tibetan', 'culture', 'and', 'will', 'mean', 'the', 'end', 'of', 'the', 'tibetan', 'people'], ['jag', 'vill', 'påpeka', 'att', 'om', 'man', 'inte', 'gör', 'någonting', 'kommer', 'det', 'att', 'leda', 'till', 'att', 'den', 'tibetanska', 'kulturen', 'dör', 'ut', 'och', 'att', 'det', 'tibetanska', 'folket', 'försvinner']])]\n"
     ]
    },
    {
     "name": "stderr",
     "output_type": "stream",
     "text": [
      "                                                                                \r"
     ]
    }
   ],
   "source": [
    "print(en_sv3.take(3))"
   ]
  },
  {
   "cell_type": "markdown",
   "id": "054d8d23",
   "metadata": {},
   "source": [
    "##### Step4: Filter to exclude line pairs that have an empty/missing “corresponding” sentence"
   ]
  },
  {
   "cell_type": "code",
   "execution_count": 36,
   "id": "827d8255",
   "metadata": {},
   "outputs": [],
   "source": [
    "en_sv4 = en_sv3.filter(lambda x: (len(x[1][0])!=0) and (x[1][0]!=''))"
   ]
  },
  {
   "cell_type": "code",
   "execution_count": 37,
   "id": "d7d24360",
   "metadata": {},
   "outputs": [
    {
     "name": "stderr",
     "output_type": "stream",
     "text": [
      "[Stage 36:>                                                         (0 + 1) / 1]\r"
     ]
    },
    {
     "name": "stdout",
     "output_type": "stream",
     "text": [
      "[(140, [['the', 'report', 'looks', 'at', 'the', 'issue', 'of', 'harmonising', 'the', 'examination', 'requirements', 'for', 'safety', 'advisors', 'working', 'in', 'the', 'areas', 'of', 'transportation', 'of', 'dangerous', 'goods', 'by', 'road', 'rail', 'and', 'inland', 'waterway'], ['han', 'behandlar', 'frågan', 'om', 'harmonisering', 'av', 'examineringskraven', 'för', 'säkerhetsrådgivare', 'för', 'transport', 'av', 'farligt', 'gods', 'på', 'väg', 'järnväg', 'och', 'inre', 'vattenvägar']])]\n"
     ]
    },
    {
     "name": "stderr",
     "output_type": "stream",
     "text": [
      "                                                                                \r"
     ]
    }
   ],
   "source": [
    "print(en_sv4.take(1))"
   ]
  },
  {
   "cell_type": "markdown",
   "id": "5937727e",
   "metadata": {},
   "source": [
    "##### Step 5: Filter to leave only pairs of sentences with a small number of words per sentence, this should give a more reliable translation (you can experiment)."
   ]
  },
  {
   "cell_type": "code",
   "execution_count": 38,
   "id": "e42ac6d1",
   "metadata": {},
   "outputs": [],
   "source": [
    "limit = 10\n",
    "en_sv5 = en_sv4.filter(lambda x: (len(x[1][0]) <= limit) or (len(x[1][1]) <= limit))"
   ]
  },
  {
   "cell_type": "code",
   "execution_count": 39,
   "id": "642b529b",
   "metadata": {},
   "outputs": [
    {
     "name": "stderr",
     "output_type": "stream",
     "text": [
      "[Stage 38:>                                                         (0 + 1) / 1]\r"
     ]
    },
    {
     "name": "stdout",
     "output_type": "stream",
     "text": [
      "[(4412, [['mr', 'president', 'i', 'simply', 'wanted', 'to', 'pass', 'on', 'some', 'news'], ['herr', 'talman']])]\n"
     ]
    },
    {
     "name": "stderr",
     "output_type": "stream",
     "text": [
      "                                                                                \r"
     ]
    }
   ],
   "source": [
    "print(en_sv5.take(1))"
   ]
  },
  {
   "cell_type": "markdown",
   "id": "6e54bcc2",
   "metadata": {},
   "source": [
    "##### Step 6: Filter to leave only pairs of sentences with the same number of words in each sentence."
   ]
  },
  {
   "cell_type": "code",
   "execution_count": 40,
   "id": "d366c866",
   "metadata": {},
   "outputs": [],
   "source": [
    "en_sv6 = en_sv5.filter(lambda x: len(x[1][0]) == len(x[1][1]))"
   ]
  },
  {
   "cell_type": "code",
   "execution_count": 41,
   "id": "503da881",
   "metadata": {},
   "outputs": [
    {
     "name": "stderr",
     "output_type": "stream",
     "text": [
      "[Stage 40:>                                                         (0 + 1) / 1]\r"
     ]
    },
    {
     "name": "stdout",
     "output_type": "stream",
     "text": [
      "[(6298, [['the', 'common', 'position', 'is', 'a', 'reasonable', 'compromise'], ['den', 'gemensamma', 'ståndpunkten', 'är', 'en', 'rimlig', 'kompromiss']])]\n"
     ]
    },
    {
     "name": "stderr",
     "output_type": "stream",
     "text": [
      "                                                                                \r"
     ]
    }
   ],
   "source": [
    "print(en_sv6.take(1))"
   ]
  },
  {
   "cell_type": "markdown",
   "id": "69fd0779",
   "metadata": {},
   "source": [
    "##### Step 7: For each sentence pair, map so that you pair each (in order) word in the two sentences. We no longer need the line numbers. (hint: use python’s built in zip() function)"
   ]
  },
  {
   "cell_type": "code",
   "execution_count": 42,
   "id": "899a4e29",
   "metadata": {},
   "outputs": [],
   "source": [
    "en_sv7 = en_sv6.map(lambda x: list(zip(*x[1]))).flatMap(lambda l: l)"
   ]
  },
  {
   "cell_type": "code",
   "execution_count": 43,
   "id": "74ec2acf",
   "metadata": {},
   "outputs": [
    {
     "name": "stderr",
     "output_type": "stream",
     "text": [
      "[Stage 42:>                                                         (0 + 1) / 1]\r"
     ]
    },
    {
     "name": "stdout",
     "output_type": "stream",
     "text": [
      "[('that', 'det'), ('is', 'är'), ('a', 'en'), ('disgraceful', 'skymflig'), ('attitude', 'inställning'), ('it', 'det'), ('is', 'är'), ('not', 'inte'), ('a', 'ett'), ('directive', 'direktiv'), ('or', 'eller'), ('a', 'en'), ('regulation', 'förordning'), ('', ''), ('it', 'i'), ('defines', 'förslaget'), ('tougher', 'fastställs'), ('enforcement', 'hårdare'), ('measures', 'motåtgärder'), ('the', 'omröstningen')]\n"
     ]
    },
    {
     "name": "stderr",
     "output_type": "stream",
     "text": [
      "                                                                                \r"
     ]
    }
   ],
   "source": [
    "print(en_sv7.take(20))"
   ]
  },
  {
   "cell_type": "markdown",
   "id": "e46fdbfe",
   "metadata": {},
   "source": [
    "##### Step 8: Use reduce to count the number of occurrences of the word-translation-pairs."
   ]
  },
  {
   "cell_type": "code",
   "execution_count": 44,
   "id": "80079d8d",
   "metadata": {},
   "outputs": [
    {
     "name": "stderr",
     "output_type": "stream",
     "text": [
      "                                                                                \r"
     ]
    }
   ],
   "source": [
    "en_sv8 = en_sv7.map(lambda x: (x,1))\n",
    "en_sv8 = en_sv8.reduceByKey(lambda a, b : a + b)\n",
    "en_sv8 = en_sv8.map(lambda x: (x[1], x[0])).sortByKey(False)"
   ]
  },
  {
   "cell_type": "markdown",
   "id": "a198daf4",
   "metadata": {},
   "source": [
    "##### Step 9: Print some of the most frequently occurring pairs of words"
   ]
  },
  {
   "cell_type": "code",
   "execution_count": 45,
   "id": "7ff067fa",
   "metadata": {},
   "outputs": [
    {
     "name": "stdout",
     "output_type": "stream",
     "text": [
      "[(11343, ('is', 'är')), (6612, ('we', 'vi')), (6143, ('i', 'jag')), (5769, ('', '')), (4498, ('this', 'detta')), (3941, ('and', 'och')), (3707, ('it', 'det')), (3500, ('a', 'en')), (3469, ('that', 'det')), (3314, ('applause', 'applåder')), (3273, ('not', 'inte')), (2972, ('closed', 'avslutad')), (2531, ('in', 'i')), (2350, ('have', 'har')), (2246, ('a', 'ett')), (2218, ('will', 'att')), (2113, ('are', 'är')), (2033, ('this', 'det')), (2009, ('the', 'omröstningen')), (1970, ('for', 'för')), (1955, ('vote', 'kommer')), (1948, ('there', 'det')), (1896, ('the', 'den')), (1859, ('to', 'att')), (1852, ('place', 'rum')), (1821, ('take', 'äga')), (1721, ('\\xa0\\xa0', '\\xa0\\xa0')), (1686, ('question', 'fråga')), (1644, ('of', 'av')), (1564, ('the', 'det')), (1552, ('must', 'måste')), (1517, ('very', 'mycket')), (1449, ('that', 'detta')), (1373, ('the', 'jag')), (1334, ('has', 'har')), (1331, ('is', 'debatten')), (1327, ('no', 'nr')), (1320, ('debate', 'förklarar')), (1317, ('that', 'att')), (1273, ('minutes', 'protokollet')), (1272, ('the', 'debatten')), (1253, ('this', 'denna')), (1253, ('see', 'se')), (1241, ('by', 'från')), (1241, ('is', 'härmed')), (1238, ('tomorrow', 'i')), (1215, ('debate', 'är')), (1200, ('what', 'vad')), (1197, ('at', 'morgon')), (1081, ('mr', 'herr'))]\n"
     ]
    }
   ],
   "source": [
    "print(en_sv8.take(50))"
   ]
  },
  {
   "cell_type": "code",
   "execution_count": 46,
   "id": "a7d29d8d",
   "metadata": {},
   "outputs": [
    {
     "name": "stdout",
     "output_type": "stream",
     "text": [
      "Spark closed!\n"
     ]
    }
   ],
   "source": [
    "sc.stop()\n",
    "print(\"Spark closed!\")"
   ]
  },
  {
   "cell_type": "code",
   "execution_count": null,
   "id": "3e927d36",
   "metadata": {},
   "outputs": [],
   "source": []
  }
 ],
 "metadata": {
  "kernelspec": {
   "display_name": "Python 3 (ipykernel)",
   "language": "python",
   "name": "python3"
  },
  "language_info": {
   "codemirror_mode": {
    "name": "ipython",
    "version": 3
   },
   "file_extension": ".py",
   "mimetype": "text/x-python",
   "name": "python",
   "nbconvert_exporter": "python",
   "pygments_lexer": "ipython3",
   "version": "3.8.10"
  },
  "varInspector": {
   "cols": {
    "lenName": 16,
    "lenType": 16,
    "lenVar": 40
   },
   "kernels_config": {
    "python": {
     "delete_cmd_postfix": "",
     "delete_cmd_prefix": "del ",
     "library": "var_list.py",
     "varRefreshCmd": "print(var_dic_list())"
    },
    "r": {
     "delete_cmd_postfix": ") ",
     "delete_cmd_prefix": "rm(",
     "library": "var_list.r",
     "varRefreshCmd": "cat(var_dic_list()) "
    }
   },
   "types_to_exclude": [
    "module",
    "function",
    "builtin_function_or_method",
    "instance",
    "_Feature"
   ],
   "window_display": false
  }
 },
 "nbformat": 4,
 "nbformat_minor": 5
}
