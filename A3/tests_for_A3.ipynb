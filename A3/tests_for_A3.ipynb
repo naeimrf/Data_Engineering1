{
 "cells": [
  {
   "cell_type": "code",
   "execution_count": null,
   "id": "4b65ffb5",
   "metadata": {},
   "outputs": [],
   "source": [
    "from pyspark.sql import SparkSession\n",
    "from pyspark import SparkConf"
   ]
  },
  {
   "cell_type": "code",
   "execution_count": null,
   "id": "cc93a958",
   "metadata": {},
   "outputs": [],
   "source": [
    "spark_session = SparkSession.builder.appName('A3_A').getOrCreate()\n",
    "sc = spark_session.sparkContext"
   ]
  },
  {
   "cell_type": "code",
   "execution_count": null,
   "id": "c275f010",
   "metadata": {},
   "outputs": [],
   "source": [
    "rdd1 = sc.parallelize([(0, ['a', 'b']), (1, ['x', 'm']), (2, ['q', 'e'])])\n",
    "rdd2 = sc.parallelize([(0, ['d', 'c']), (1, ['z', 'n']), (2, ['p', 'r'])])\n",
    "rdd3 = rdd1.union(rdd2).reduceByKey(lambda x,y : (x)+(y))\n",
    "print(rdd3.collect())"
   ]
  },
  {
   "cell_type": "code",
   "execution_count": null,
   "id": "06760c6c",
   "metadata": {},
   "outputs": [],
   "source": [
    "rdd3 = rdd1.union(rdd2)\n",
    "rdd3 = rdd3.groupByKey().mapValues(list)\n",
    "print(rdd3.collect())"
   ]
  },
  {
   "cell_type": "code",
   "execution_count": null,
   "id": "2fe252ac",
   "metadata": {},
   "outputs": [],
   "source": [
    "def match_pairs1(any_list):\n",
    "    result = []\n",
    "    print(any_list[0])\n",
    "    for each in any_list:\n",
    "        print(each[1])\n",
    "        result.append(list(zip(*each[1])))\n",
    "    flattened = [val for sublist in result for val in sublist]\n",
    "    return flattened\n",
    "\n",
    "bb = [(12, [['A', 'B'], ['a', 'b']]), (41, [['X','M'], ['x', 'm']])]\n",
    "print(match_pairs1(bb))"
   ]
  },
  {
   "cell_type": "code",
   "execution_count": null,
   "id": "94e9b8e9",
   "metadata": {},
   "outputs": [],
   "source": [
    "def match_pairs2(any_rdd):\n",
    "    return any_rdd.map(lambda x: list(zip(*x[1])))\n",
    "\n",
    "rdd1 = sc.parallelize([(12, [['A', 'B'], ['a', 'b']]), \n",
    "                       (41, [['X','M'], ['x', 'm']])])\n",
    "res_rdd = match_pairs2(rdd1)\n",
    "res_rdd.take(3)"
   ]
  },
  {
   "cell_type": "code",
   "execution_count": null,
   "id": "ae53831e",
   "metadata": {},
   "outputs": [],
   "source": [
    "def match_pairs(any_rdd):\n",
    "    return any_rdd.map(lambda x: list(zip(*x[1])))"
   ]
  }
 ],
 "metadata": {
  "kernelspec": {
   "display_name": "Python 3 (ipykernel)",
   "language": "python",
   "name": "python3"
  },
  "language_info": {
   "codemirror_mode": {
    "name": "ipython",
    "version": 3
   },
   "file_extension": ".py",
   "mimetype": "text/x-python",
   "name": "python",
   "nbconvert_exporter": "python",
   "pygments_lexer": "ipython3",
   "version": "3.8.2"
  },
  "varInspector": {
   "cols": {
    "lenName": 16,
    "lenType": 16,
    "lenVar": 40
   },
   "kernels_config": {
    "python": {
     "delete_cmd_postfix": "",
     "delete_cmd_prefix": "del ",
     "library": "var_list.py",
     "varRefreshCmd": "print(var_dic_list())"
    },
    "r": {
     "delete_cmd_postfix": ") ",
     "delete_cmd_prefix": "rm(",
     "library": "var_list.r",
     "varRefreshCmd": "cat(var_dic_list()) "
    }
   },
   "types_to_exclude": [
    "module",
    "function",
    "builtin_function_or_method",
    "instance",
    "_Feature"
   ],
   "window_display": false
  }
 },
 "nbformat": 4,
 "nbformat_minor": 5
}
